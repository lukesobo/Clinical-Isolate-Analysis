{
 "cells": [
  {
   "cell_type": "code",
   "execution_count": null,
   "id": "96f26230-b7d9-4651-a090-4cdd3b61a306",
   "metadata": {
    "tags": []
   },
   "outputs": [],
   "source": [
    "import pandas as pd\n",
    "import numpy as np"
   ]
  },
  {
   "cell_type": "markdown",
   "id": "dffae138-d05d-416b-8da2-f0af6cc5dfca",
   "metadata": {},
   "source": [
    "## Import Dataframes"
   ]
  },
  {
   "cell_type": "code",
   "execution_count": null,
   "id": "79b60f09-6fea-4bcb-b731-d5e601264ac8",
   "metadata": {
    "tags": []
   },
   "outputs": [],
   "source": [
    "#redacted"
   ]
  },
  {
   "cell_type": "markdown",
   "id": "fdf86b63-3a7b-4c7b-af25-17e9e0e90c51",
   "metadata": {
    "execution": {
     "iopub.execute_input": "2024-01-09T23:15:59.449079Z",
     "iopub.status.busy": "2024-01-09T23:15:59.448635Z",
     "iopub.status.idle": "2024-01-09T23:15:59.477403Z",
     "shell.execute_reply": "2024-01-09T23:15:59.476568Z",
     "shell.execute_reply.started": "2024-01-09T23:15:59.449024Z"
    },
    "jupyter": {
     "outputs_hidden": true
    },
    "tags": []
   },
   "source": [
    "### Liquid Host Range Analysis"
   ]
  },
  {
   "cell_type": "code",
   "execution_count": null,
   "id": "b5cb9a3d-06a7-43aa-a5c2-7413ba5d8a79",
   "metadata": {
    "tags": []
   },
   "outputs": [],
   "source": [
    "#user inputs\n",
    "AUC_hit_cutoff = 1 #redacted\n",
    "strain_growth_threshold = 1 #redacted"
   ]
  },
  {
   "cell_type": "markdown",
   "id": "12a8624a-3c88-4926-8629-bfdaef67c217",
   "metadata": {},
   "source": [
    "#### LB Average Replicates"
   ]
  },
  {
   "cell_type": "code",
   "execution_count": null,
   "id": "3c0aacc6-bdfc-4067-9e1c-ebfb7af4b964",
   "metadata": {
    "tags": []
   },
   "outputs": [],
   "source": [
    "#Average the blank strain AUC and endpoint OD\n",
    "LB_blanks_df = LHR_LB[LHR_LB[\"Phage\"] == \"blank_1\"]\n",
    "LB_strain_avg = LB_blanks_df.groupby('Strain')[\"Control AUC\", \"Control Endpoint OD\"].agg(['mean', np.std, 'count']).reset_index()\n",
    "LB_strain_avg.columns = [\"Strain\", \"Control AUC\", \"Control AUC StDev\", \"AUC count\", \"Control Endpoint OD\", \"Control OD StDev\", \"Control Replicates\"]\n",
    "LB_strain_avg = LB_strain_avg.drop(columns=[\"AUC count\"])\n",
    "                 \n",
    "# #get which strains didn't reach endpoint OD threshold (usually #redacted)\n",
    "LB_strains_no_grow = LB_blanks_df[(LB_blanks_df[\"Strain\"] != \"LB\") & (LB_blanks_df['Control Endpoint OD'] < strain_growth_threshold)]\n",
    "\n",
    "# #substitute in average control AUCs and endpoint ODs for all strains\n",
    "LB_ctrl_merged_df = pd.merge(LHR_LB, LB_strain_avg, how='left', on='Strain')\n",
    "LB_ctrl_merged_df[\"Control AUC_x\"] = LB_ctrl_merged_df[\"Control AUC_y\"]\n",
    "LB_ctrl_merged_df[\"Control Endpoint OD_x\"] = LB_ctrl_merged_df[\"Control Endpoint OD_y\"]\n",
    "LHR_LB_ctrl_avg = LB_ctrl_merged_df.rename(columns={\"Control AUC_x\" : \"Avg Control AUC\", \"Control Endpoint OD_x\" : \"Avg Control Endpoint OD\"})\n",
    "LHR_LB_ctrl_avg = LHR_LB_ctrl_avg.drop(columns = [\"Control AUC_y\", \"Control Endpoint OD_y\"])\n",
    "LHR_LB_ctrl_avg\n"
   ]
  },
  {
   "cell_type": "code",
   "execution_count": null,
   "id": "95d7b6bd-63d8-414d-8eb8-6778d1f797b2",
   "metadata": {
    "tags": []
   },
   "outputs": [],
   "source": [
    "#get the average for each phage,strain replicate AUC and endpoint OD\n",
    "LB_phage_avg = LHR_LB.groupby([\"Phage\", \"Strain\"])[\"Phage AUC\", \"Phage Endpoint OD\"].agg(['mean', np.std, 'count']).reset_index()\n",
    "LB_phage_avg.columns = [\"Phage\", \"Strain\", \"Phage AUC\", \"Phage AUC StDev\", \"AUC count\", \"Phage Endpoint OD\", \"Phage OD StDev\", \"Phage Replicates\"]\n",
    "\n",
    "LB_phage_avg=LB_phage_avg.drop(columns=[\"AUC count\"])\n",
    "\n",
    "#substitute in average control AUCs and endpoint ODs for all strains\n",
    "LB_phage_merged_df = pd.merge(LHR_LB_ctrl_avg, LB_phage_avg, how='left', on=['Phage', 'Strain'])\n",
    "LB_phage_merged_df[\"Phage AUC_x\"] = LB_phage_merged_df[\"Phage AUC_y\"]\n",
    "LB_phage_merged_df[\"Phage Endpoint OD_x\"] = LB_phage_merged_df[\"Phage Endpoint OD_y\"]\n",
    "LHR_LB_avg = LB_phage_merged_df.rename(columns={\"Phage AUC_x\" : \"Avg Phage AUC\", \"Phage Endpoint OD_x\" : \"Avg Phage Endpoint OD\"})\n",
    "LHR_LB_avg = LHR_LB_avg.drop(columns = [\"Phage AUC_y\", \"Phage Endpoint OD_y\"])\n",
    "\n",
    "#dropping columns that will not be accurate for replicates\n",
    "LHR_LB_avg = LHR_LB_avg.drop(columns = [\"Phage ODs\", \"Control ODs\", \"Well\"])\n",
    "\n",
    "#calculate new AUC ratio based on average AUCs\n",
    "LHR_LB_avg[\"AUC Ratio\"] = LHR_LB_avg[\"Avg Phage AUC\"] / LHR_LB_avg[\"Avg Control AUC\"]\n",
    "\n",
    "#calculate the AUC Ratio StDev\n",
    "LHR_LB_avg[\"AUC Ratio StDev\"] = LHR_LB_avg[\"AUC Ratio\"] * np.sqrt((LHR_LB_avg[\"Phage AUC StDev\"] / LHR_LB_avg[\"Avg Phage AUC\"])**2 +\n",
    "                                                                  (LHR_LB_avg[\"Control AUC StDev\"] / LHR_LB_avg[\"Avg Control AUC\"])**2)\n",
    "\n",
    "#calculate new delta endpoint ODs based on average endpoint ODs\n",
    "LHR_LB_avg[\"Delta Endpoint OD\"] = LHR_LB_avg[\"Avg Control Endpoint OD\"] - LHR_LB_avg[\"Avg Phage Endpoint OD\"]\n",
    "\n",
    "#calculate delta endpoint OD StDev\n",
    "LHR_LB_avg[\"Delta Endpoint OD StDev\"] = np.sqrt(LHR_LB_avg[\"Control OD StDev\"]**2 + LHR_LB_avg[\"Phage OD StDev\"]**2)\n",
    "\n",
    "#remove duplicate rows\n",
    "LHR_LB_avg = LHR_LB_avg.drop_duplicates()\n",
    "\n",
    "#convert to a .csv\n",
    "LHR_LB_avg.to_csv(#redacted, index=False)\n",
    "print(len(LHR_LB_avg[\"Strain\"].unique()))"
   ]
  },
  {
   "cell_type": "markdown",
   "id": "9ed69d65-a0b8-4978-a758-7f44bb7d60c8",
   "metadata": {},
   "source": [
    "#### Urine Average Replicates"
   ]
  },
  {
   "cell_type": "code",
   "execution_count": null,
   "id": "63071c02-8678-4aea-876d-c06bcd78b273",
   "metadata": {
    "tags": []
   },
   "outputs": [],
   "source": [
    "#Average the blank strain AUC and endpoint OD\n",
    "urine_blanks_df = LHR_urine[LHR_urine[\"Phage\"] == \"blank_1\"]\n",
    "urine_strain_avg = urine_blanks_df.groupby('Strain')[\"Control AUC\", \"Control Endpoint OD\"].agg(['mean', np.std, 'count']).reset_index()\n",
    "urine_strain_avg.columns = [\"Strain\", \"Control AUC\", \"Control AUC StDev\", \"AUC count\", \"Control Endpoint OD\", \"Control OD StDev\", \"Control Replicates\"]\n",
    "urine_strain_avg = urine_strain_avg.drop(columns=[\"AUC count\"])\n",
    "                   \n",
    "# #get which strains didn't reach endpoint OD threshold (usually #redacted)\n",
    "urine_strains_no_grow = urine_blanks_df[(urine_blanks_df[\"Strain\"] != \"urine\") & (urine_blanks_df['Control Endpoint OD'] < strain_growth_threshold)]\n",
    "\n",
    "# #substitute in average control AUCs and endpoint ODs for all strains\n",
    "urine_ctrl_merged_df = pd.merge(LHR_urine, urine_strain_avg, how='left', on='Strain')\n",
    "urine_ctrl_merged_df[\"Control AUC_x\"] = urine_ctrl_merged_df[\"Control AUC_y\"]\n",
    "urine_ctrl_merged_df[\"Control Endpoint OD_x\"] = urine_ctrl_merged_df[\"Control Endpoint OD_y\"]\n",
    "LHR_urine_ctrl_avg = urine_ctrl_merged_df.rename(columns={\"Control AUC_x\" : \"Avg Control AUC\", \"Control Endpoint OD_x\" : \"Avg Control Endpoint OD\"})\n",
    "LHR_urine_ctrl_avg = LHR_urine_ctrl_avg.drop(columns = [\"Control AUC_y\", \"Control Endpoint OD_y\"])\n"
   ]
  },
  {
   "cell_type": "code",
   "execution_count": null,
   "id": "300cadc1-b060-420c-b5a4-4ce54782ebd1",
   "metadata": {
    "tags": []
   },
   "outputs": [],
   "source": [
    "#get the average for each phage,strain replicate AUC and endpoint OD\n",
    "urine_phage_avg = LHR_urine.groupby([\"Phage\", \"Strain\"])[\"Phage AUC\", \"Phage Endpoint OD\"].agg(['mean', np.std, 'count']).reset_index()\n",
    "urine_phage_avg.columns = [\"Phage\", \"Strain\", \"Phage AUC\", \"Phage AUC StDev\", \"AUC count\", \"Phage Endpoint OD\", \"Phage OD StDev\", \"Phage Replicates\"]\n",
    "\n",
    "urine_phage_avg=urine_phage_avg.drop(columns=[\"AUC count\"])\n",
    "\n",
    "#substitute in average control AUCs and endpoint ODs for all strains\n",
    "urine_phage_merged_df = pd.merge(LHR_urine_ctrl_avg, urine_phage_avg, how='left', on=['Phage', 'Strain'])\n",
    "urine_phage_merged_df[\"Phage AUC_x\"] = urine_phage_merged_df[\"Phage AUC_y\"]\n",
    "urine_phage_merged_df[\"Phage Endpoint OD_x\"] = urine_phage_merged_df[\"Phage Endpoint OD_y\"]\n",
    "LHR_urine_avg = urine_phage_merged_df.rename(columns={\"Phage AUC_x\" : \"Avg Phage AUC\", \"Phage Endpoint OD_x\" : \"Avg Phage Endpoint OD\"})\n",
    "LHR_urine_avg = LHR_urine_avg.drop(columns = [\"Phage AUC_y\", \"Phage Endpoint OD_y\"])\n",
    "\n",
    "#dropping columns that will not be accurate for replicates\n",
    "LHR_urine_avg = LHR_urine_avg.drop(columns = [\"Phage ODs\", \"Control ODs\", \"Well\"])\n",
    "\n",
    "#calculate new AUC ratio based on average AUCs\n",
    "LHR_urine_avg[\"AUC Ratio\"] = LHR_urine_avg[\"Avg Phage AUC\"] / LHR_urine_avg[\"Avg Control AUC\"]\n",
    "\n",
    "#calculate the AUC Ratio StDev\n",
    "LHR_urine_avg[\"AUC Ratio StDev\"] = LHR_urine_avg[\"AUC Ratio\"] * np.sqrt((LHR_urine_avg[\"Phage AUC StDev\"] / LHR_urine_avg[\"Avg Phage AUC\"])**2 +\n",
    "                                                                  (LHR_urine_avg[\"Control AUC StDev\"] / LHR_urine_avg[\"Avg Control AUC\"])**2)\n",
    "\n",
    "#calculate new delta endpoint ODs based on average endpoint ODs\n",
    "LHR_urine_avg[\"Delta Endpoint OD\"] = LHR_urine_avg[\"Avg Control Endpoint OD\"] - LHR_urine_avg[\"Avg Phage Endpoint OD\"]\n",
    "\n",
    "#calculate delta endpoint OD StDev\n",
    "LHR_urine_avg[\"Delta Endpoint OD StDev\"] = np.sqrt(LHR_urine_avg[\"Control OD StDev\"]**2 + LHR_urine_avg[\"Phage OD StDev\"]**2)\n",
    "\n",
    "#remove duplicate rows\n",
    "LHR_urine_avg = LHR_urine_avg.drop_duplicates()\n",
    "\n",
    "#convert to a .csv\n",
    "LHR_urine_avg.to_csv(#redacted, index=False)"
   ]
  },
  {
   "cell_type": "markdown",
   "id": "8fcab78f-7327-4f13-ad71-a0be69ffb0f2",
   "metadata": {},
   "source": [
    "#### Define Functions"
   ]
  },
  {
   "cell_type": "code",
   "execution_count": null,
   "id": "2090f7c7-b06b-4fad-a0d7-ebbf71fdb48f",
   "metadata": {
    "tags": []
   },
   "outputs": [],
   "source": [
    "strain_growth_threshold = 1 #redacted\n",
    "AUC_hit_cutoff = 1 #redacted"
   ]
  },
  {
   "cell_type": "code",
   "execution_count": null,
   "id": "cd9e2a59-5ee8-4d98-a9c1-b2028215b51d",
   "metadata": {
    "tags": []
   },
   "outputs": [],
   "source": [
    "#sum strains that aren't media\n",
    "def sum_strains_NoMedia(group):\n",
    "    return sum((group[\"Strain\"] != \"LB\") & (group[\"Strain\"] != \"Urine\"))\n",
    "\n",
    "#sum strains that aren't media and ctrl OD > #redacted\n",
    "def sum_strains_NoMedia_NoLowOD(group):\n",
    "    return sum((group[\"Strain\"] != \"LB\") & (group[\"Strain\"] != \"Urine\") & (group[\"Avg Control Endpoint OD\"] > strain_growth_threshold))\n",
    "\n",
    "#sum strains hit (not media)\n",
    "def sum_strains_hit_NoMedia(group):\n",
    "    return sum((group[\"AUC Ratio\"] < AUC_hit_cutoff) & (group[\"Strain\"] != \"LB\") & (group[\"Strain\"] != \"Urine\"))\n",
    "\n",
    "#strain hit function ensuring control OD > #redacted\n",
    "def sum_strains_hit_NoMedia_NoLowOD(group):\n",
    "    return sum((group[\"AUC Ratio\"] < AUC_hit_cutoff) & (group[\"Strain\"] != \"LB\") & (group[\"Strain\"] != \"Urine\") & (group[\"Avg Control Endpoint OD\"] > strain_growth_threshold))\n",
    "\n",
    "def get_strains_hit_percent(group):\n",
    "    strains_hit = sum_strains_hit_NoMedia_NoLowOD(group)\n",
    "    total_strains = sum_strains_NoMedia_NoLowOD(group)\n",
    "    return strains_hit/total_strains * 100\n",
    "\n",
    "def strains_hit_percent_auc_1std_high(group):\n",
    "    strains_hit_AUC_high = sum(((group[\"AUC Ratio\"] + group[\"AUC Ratio StDev\"]) < AUC_hit_cutoff) & (group[\"Strain\"] != \"LB\") & (group[\"Strain\"] != \"Urine\") & \n",
    "                           (group[\"Avg Control Endpoint OD\"] > strain_growth_threshold))\n",
    "    total_strains = sum_strains_NoMedia_NoLowOD(group)\n",
    "    return strains_hit_AUC_high/total_strains * 100\n",
    "\n",
    "def strains_hit_percent_auc_1std_low(group):\n",
    "    strains_hit_AUC_low = sum(((group[\"AUC Ratio\"] - group[\"AUC Ratio StDev\"]) < AUC_hit_cutoff) & (group[\"Strain\"] != \"LB\") & (group[\"Strain\"] != \"Urine\") & \n",
    "                           (group[\"Avg Control Endpoint OD\"] > strain_growth_threshold))\n",
    "    total_strains = sum_strains_NoMedia_NoLowOD(group)\n",
    "    return strains_hit_AUC_low/total_strains * 100\n",
    "\n",
    "def percent_DeltaEndpointOD_greater(group):\n",
    "    num_strains_greater = sum(\n",
    "        (group[\"Delta Endpoint OD\"] > 1) & (group[\"Strain\"] != \"LB\") & (group[\"Strain\"] != \"Urine\") & (group[\"Avg Control Endpoint OD\"] > strain_growth_threshold)\n",
    "    )\n",
    "    total_strains = sum_strains_NoMedia_NoLowOD(group)\n",
    "    return num_strains_greater/total_strains * 100\n",
    "\n",
    "def percent_DeltaEndOD_greater_stdHigh(group):\n",
    "    num_strains_greater_stdHigh = sum(((group[\"Delta Endpoint OD\"] + group[\"Delta Endpoint OD StDev\"]) > 1) & (group[\"Strain\"] != \"LB\") & (group[\"Strain\"] != \"Urine\") &\n",
    "                                (group[\"Avg Control Endpoint OD\"] > strain_growth_threshold))\n",
    "    total_strains = sum_strains_NoMedia_NoLowOD(group)\n",
    "    return num_strains_greater_stdHigh/total_strains * 100\n",
    "\n",
    "def percent_DeltaEndOD_greater_stdLow(group):\n",
    "    num_strains_greater_stdLow = sum(((group[\"Delta Endpoint OD\"] - group[\"Delta Endpoint OD StDev\"]) > 1) & (group[\"Strain\"] != \"LB\") & (group[\"Strain\"] != \"Urine\") &\n",
    "                                (group[\"Avg Control Endpoint OD\"] > strain_growth_threshold))\n",
    "    total_strains = sum_strains_NoMedia_NoLowOD(group)\n",
    "    return num_strains_greater_stdLow/total_strains * 100\n"
   ]
  },
  {
   "cell_type": "markdown",
   "id": "4ffb3908-3de7-4efc-9cdc-51caf86295bc",
   "metadata": {},
   "source": [
    "#### Get LB Summary Dataframe"
   ]
  },
  {
   "cell_type": "code",
   "execution_count": null,
   "id": "c072c4a3-1dc5-43e5-8f27-b5b4ca1002bd",
   "metadata": {
    "tags": []
   },
   "outputs": [],
   "source": [
    "LB_LHR_summary = LHR_LB_avg.groupby(\"Phage\", sort=False).apply(sum_strains_NoMedia).reset_index(name=\"Total Strains (#)\")\n",
    "LB_strains_noLowOD = LHR_LB_avg.groupby(\"Phage\", sort=False).apply(sum_strains_NoMedia_NoLowOD)\n",
    "LB_LHR_summary[\"Strains Ctrl OD > 1 (#)\"] = LB_strains_noLowOD.values\n",
    "LB_LHR_summary[\"Endpoint OD < 1 (%)\"] = ((LB_LHR_summary[\"Total Strains (#)\"] - LB_LHR_summary[\"Strains Ctrl OD > 1 (#)\"]) / (LB_LHR_summary[\"Total Strains (#)\"]))\n",
    "LB_strains_hit_percent = LHR_LB_avg.groupby(\"Phage\", sort=False).apply(get_strains_hit_percent)\n",
    "LB_LHR_summary[\"Strains Hit (%)\"] = LB_strains_hit_percent.values\n",
    "LB_median_AUCs = LHR_LB_avg.groupby(\"Phage\", sort=False)[\"AUC Ratio\"].median()\n",
    "LB_LHR_summary[\"Median AUC Ratio\"] = LB_median_AUCs.values\n",
    "LB_DeltaEndpointOD_greaterPercent = LHR_LB_avg.groupby(\"Phage\", sort=False).apply(percent_DeltaEndpointOD_greater) \n",
    "LB_LHR_summary[\"Delta Endpoint OD > 1 (%)\"] = LB_DeltaEndpointOD_greaterPercent.values\n",
    "LB_median_DeltaEndpointOD = LHR_LB_avg.groupby(\"Phage\", sort=False)[\"Delta Endpoint OD\"].median()\n",
    "LB_LHR_summary[\"Median Delta Endpoint OD\"] = LB_median_DeltaEndpointOD.values\n",
    "LB_max_titers = LHR_LB_avg.groupby(\"Phage\", sort=False)[\"Titer\"].max()\n",
    "LB_LHR_summary[\"Titer\"] = LB_max_titers.values\n",
    "LB_LHR_summary[\"Media\"] = \"LB\"\n",
    "\n",
    "#high and low percentages for strain hits\n",
    "LB_strains_hit_percent_auc1stdhigh = LHR_LB_avg.groupby(\"Phage\", sort=False).apply(strains_hit_percent_auc_1std_high)\n",
    "LB_strains_hit_percent_auc1stdlow = LHR_LB_avg.groupby(\"Phage\", sort=False).apply(strains_hit_percent_auc_1std_low)\n",
    "LB_LHR_summary[\"Strains Hit AUC 1 StDev High (%)\"] = LB_strains_hit_percent_auc1stdhigh.values\n",
    "LB_LHR_summary[\"Strains Hit AUC 1 StDev Low (%)\"] = LB_strains_hit_percent_auc1stdlow.values\n",
    "\n",
    "#high and low percentages for delta endpoint ODs\n",
    "LB_DeltaEndOD_greaterPercent_1stdHigh = LHR_LB_avg.groupby(\"Phage\", sort=False).apply(percent_DeltaEndOD_greater_stdHigh)\n",
    "LB_DeltaEndOD_greaterPercent_1stdLow = LHR_LB_avg.groupby(\"Phage\", sort=False).apply(percent_DeltaEndOD_greater_stdLow)\n",
    "LB_LHR_summary[\"Delta End OD > 1, 1 StDev High (%)\"] = LB_DeltaEndOD_greaterPercent_1stdHigh.values\n",
    "LB_LHR_summary[\"Delta End OD > 1, 1 StDev Low (%)\"] = LB_DeltaEndOD_greaterPercent_1stdLow.values\n",
    "\n",
    "desired_column_order = [\n",
    "    \"Phage\", \"Strains Hit (%)\", \"Strains Hit AUC 1 StDev High (%)\", \"Strains Hit AUC 1 StDev Low (%)\", \"Median AUC Ratio\", \n",
    "    \"Delta Endpoint OD > 1 (%)\", \"Delta End OD > 1, 1 StDev High (%)\", \"Delta End OD > 1, 1 StDev Low (%)\", \"Median Delta Endpoint OD\",\n",
    "    \"Total Strains (#)\", \"Strains Ctrl OD > 1 (#)\", \"Endpoint OD < 1 (%)\", \"Titer\", \"Media\", \n",
    "]\n",
    "\n",
    "LB_LHR_summary = LB_LHR_summary[desired_column_order]\n",
    "\n",
    "LB_LHR_summary.to_csv(#redacted, index=False)"
   ]
  },
  {
   "cell_type": "markdown",
   "id": "8eec22a9-a451-4349-a703-4e02c291d5fb",
   "metadata": {},
   "source": [
    "#### Get Urine Summary Dataframe"
   ]
  },
  {
   "cell_type": "code",
   "execution_count": null,
   "id": "85fdd058-1d52-4a59-91f2-65ff1ee1f062",
   "metadata": {
    "tags": []
   },
   "outputs": [],
   "source": [
    "urine_LHR_summary = LHR_urine_avg.groupby(\"Phage\", sort=False).apply(sum_strains_NoMedia).reset_index(name=\"Total Strains (#)\")\n",
    "urine_strains_noLowOD = LHR_urine_avg.groupby(\"Phage\", sort=False).apply(sum_strains_NoMedia_NoLowOD)\n",
    "urine_LHR_summary[\"Strains Ctrl OD > 1 (#)\"] = urine_strains_noLowOD.values\n",
    "urine_LHR_summary[\"Endpoint OD <1 (%)\"] = ((urine_LHR_summary[\"Total Strains (#)\"] - urine_LHR_summary[\"Strains Ctrl OD > 1 (#)\"]) / (urine_LHR_summary[\"Total Strains (#)\"]))\n",
    "urine_strains_hit_percent = LHR_urine_avg.groupby(\"Phage\", sort=False).apply(get_strains_hit_percent)\n",
    "urine_LHR_summary[\"Strains Hit (%)\"] = urine_strains_hit_percent.values\n",
    "urine_median_AUCs = LHR_urine_avg.groupby(\"Phage\", sort=False)[\"AUC Ratio\"].median()\n",
    "urine_LHR_summary[\"Median AUC Ratio\"] = urine_median_AUCs.values\n",
    "urine_DeltaEndpointOD_greaterPercent = LHR_urine_avg.groupby(\"Phage\", sort=False).apply(percent_DeltaEndpointOD_greater) \n",
    "urine_LHR_summary[\"Delta Endpoint OD > 1 (%)\"] = urine_DeltaEndpointOD_greaterPercent.values\n",
    "urine_median_DeltaEndpointOD = LHR_urine_avg.groupby(\"Phage\", sort=False)[\"Delta Endpoint OD\"].median()\n",
    "urine_LHR_summary[\"Median Delta Endpoint OD\"] = urine_median_DeltaEndpointOD.values\n",
    "urine_max_titers = LHR_urine_avg.groupby(\"Phage\", sort=False)[\"Titer\"].max()\n",
    "urine_LHR_summary[\"Titer\"] = urine_max_titers.values\n",
    "urine_LHR_summary[\"Media\"] = \"urine\"\n",
    "\n",
    "#high and low percentages for strain hits\n",
    "urine_strains_hit_percent_auc1stdhigh = LHR_urine_avg.groupby(\"Phage\", sort=False).apply(strains_hit_percent_auc_1std_high)\n",
    "urine_strains_hit_percent_auc1stdlow = LHR_urine_avg.groupby(\"Phage\", sort=False).apply(strains_hit_percent_auc_1std_low)\n",
    "urine_LHR_summary[\"Strains Hit AUC 1 StDev High (%)\"] = urine_strains_hit_percent_auc1stdhigh.values\n",
    "urine_LHR_summary[\"Strains Hit AUC 1 StDev Low (%)\"] = urine_strains_hit_percent_auc1stdlow.values\n",
    "\n",
    "#high and low percentages for delta endpoint ODs\n",
    "urine_DeltaEndOD_greaterPercent_1stdHigh = LHR_urine_avg.groupby(\"Phage\", sort=False).apply(percent_DeltaEndOD_greater_stdHigh)\n",
    "urine_DeltaEndOD_greaterPercent_1stdLow = LHR_urine_avg.groupby(\"Phage\", sort=False).apply(percent_DeltaEndOD_greater_stdLow)\n",
    "urine_LHR_summary[\"Delta End OD > 1, 1 StDev High (%)\"] = urine_DeltaEndOD_greaterPercent_1stdHigh.values\n",
    "urine_LHR_summary[\"Delta End OD > 1, 1 StDev Low (%)\"] = urine_DeltaEndOD_greaterPercent_1stdLow.values\n",
    "\n",
    "desired_column_order = [\n",
    "    \"Phage\", \"Strains Hit (%)\", \"Strains Hit AUC 1 StDev High (%)\", \"Strains Hit AUC 1 StDev Low (%)\", \"Median AUC Ratio\", \n",
    "    \"Delta Endpoint OD > 1 (%)\", \"Delta End OD > 1, 1 StDev High (%)\", \"Delta End OD > 1, 1 StDev Low (%)\", \"Median Delta Endpoint OD\",\n",
    "    \"Total Strains (#)\", \"Strains Ctrl OD > 1 (#)\", \"Endpoint OD < 1 (%)\", \"Titer\", \"Media\", \n",
    "]\n",
    "\n",
    "urine_LHR_summary = urine_LHR_summary[desired_column_order]\n",
    "\n",
    "urine_LHR_summary.to_csv(#redacted, index=False)"
   ]
  },
  {
   "cell_type": "markdown",
   "id": "33995b39-977e-41a0-a031-a66dcce4a64b",
   "metadata": {},
   "source": [
    "## Genetically Unique Isolates Below"
   ]
  },
  {
   "cell_type": "code",
   "execution_count": null,
   "id": "6692cc41-bdb5-4b5e-9b0d-5c543db414eb",
   "metadata": {
    "tags": []
   },
   "outputs": [],
   "source": [
    "unique_isolates = pd.read_csv(#redacted, header=None, names=[\"Strain\", \"Patient\"])\n",
    "unique_isolates=unique_isolates.drop(columns = [\"Patient\"])\n",
    "LHR_LB_uniqueIsolates = pd.merge(unique_isolates, LHR_LB_avg, on=\"Strain\", how=\"left\")\n",
    "LHR_urine_uniqueIsolates = pd.merge(unique_isolates, LHR_urine_avg, on=\"Strain\", how=\"left\")\n",
    "LHR_LB_uniqueIsolates.to_csv(#redacted)\n",
    "LHR_urine_uniqueIsolates.to_csv(#redacted)"
   ]
  },
  {
   "cell_type": "code",
   "execution_count": null,
   "id": "7ab3feac-35fb-4060-972a-5a0b7df9c67e",
   "metadata": {
    "tags": []
   },
   "outputs": [],
   "source": [
    "LB_LHR_summary_uniqueIsolates = LHR_LB_uniqueIsolates.groupby(\"Phage\", sort=False).apply(sum_strains_NoMedia).reset_index(name=\"Total Strains (#)\")\n",
    "LB_strains_noLowOD = LHR_LB_uniqueIsolates.groupby(\"Phage\", sort=False).apply(sum_strains_NoMedia_NoLowOD)\n",
    "LB_LHR_summary_uniqueIsolates[\"Strains Ctrl OD > 1 (#)\"] = LB_strains_noLowOD.values\n",
    "LB_LHR_summary_uniqueIsolates[\"Endpoint OD < 1 (%)\"] = ((LB_LHR_summary_uniqueIsolates[\"Total Strains (#)\"] - LB_LHR_summary_uniqueIsolates[\"Strains Ctrl OD > 1 (#)\"]) / (LB_LHR_summary_uniqueIsolates[\"Total Strains (#)\"]))\n",
    "LB_strains_hit_percent = LHR_LB_uniqueIsolates.groupby(\"Phage\", sort=False).apply(get_strains_hit_percent)\n",
    "LB_LHR_summary_uniqueIsolates[\"Strains Hit (%)\"] = LB_strains_hit_percent.values\n",
    "LB_median_AUCs = LHR_LB_uniqueIsolates.groupby(\"Phage\", sort=False)[\"AUC Ratio\"].median()\n",
    "LB_LHR_summary_uniqueIsolates[\"Median AUC Ratio\"] = LB_median_AUCs.values\n",
    "LB_DeltaEndpointOD_greaterPercent = LHR_LB_uniqueIsolates.groupby(\"Phage\", sort=False).apply(percent_DeltaEndpointOD_greater) \n",
    "LB_LHR_summary_uniqueIsolates[\"Delta Endpoint OD > 1 (%)\"] = LB_DeltaEndpointOD_greaterPercent.values\n",
    "LB_median_DeltaEndpointOD = LHR_LB_uniqueIsolates.groupby(\"Phage\", sort=False)[\"Delta Endpoint OD\"].median()\n",
    "LB_LHR_summary_uniqueIsolates[\"Median Delta Endpoint OD\"] = LB_median_DeltaEndpointOD.values\n",
    "LB_max_titers = LHR_LB_uniqueIsolates.groupby(\"Phage\", sort=False)[\"Titer\"].max()\n",
    "LB_LHR_summary_uniqueIsolates[\"Titer\"] = LB_max_titers.values\n",
    "LB_LHR_summary_uniqueIsolates[\"Media\"] = \"LB\"\n",
    "\n",
    "#high and low percentages for strain hits\n",
    "LB_strains_hit_percent_auc1stdhigh = LHR_LB_uniqueIsolates.groupby(\"Phage\", sort=False).apply(strains_hit_percent_auc_1std_high)\n",
    "LB_strains_hit_percent_auc1stdlow = LHR_LB_uniqueIsolates.groupby(\"Phage\", sort=False).apply(strains_hit_percent_auc_1std_low)\n",
    "LB_LHR_summary_uniqueIsolates[\"Strains Hit AUC 1 StDev High (%)\"] = LB_strains_hit_percent_auc1stdhigh.values\n",
    "LB_LHR_summary_uniqueIsolates[\"Strains Hit AUC 1 StDev Low (%)\"] = LB_strains_hit_percent_auc1stdlow.values\n",
    "\n",
    "#high and low percentages for delta endpoint ODs\n",
    "LB_DeltaEndOD_greaterPercent_1stdHigh = LHR_LB_uniqueIsolates.groupby(\"Phage\", sort=False).apply(percent_DeltaEndOD_greater_stdHigh)\n",
    "LB_DeltaEndOD_greaterPercent_1stdLow = LHR_LB_uniqueIsolates.groupby(\"Phage\", sort=False).apply(percent_DeltaEndOD_greater_stdLow)\n",
    "LB_LHR_summary_uniqueIsolates[\"Delta End OD > 0.2, 1 StDev High (%)\"] = LB_DeltaEndOD_greaterPercent_1stdHigh.values\n",
    "LB_LHR_summary_uniqueIsolates[\"Delta End OD > 0.2, 1 StDev Low (%)\"] = LB_DeltaEndOD_greaterPercent_1stdLow.values\n",
    "\n",
    "desired_column_order = [\n",
    "    \"Phage\", \"Strains Hit (%)\", \"Strains Hit AUC 1 StDev High (%)\", \"Strains Hit AUC 1 StDev Low (%)\", \"Median AUC Ratio\", \n",
    "    \"Delta Endpoint OD > 1 (%)\", \"Delta End OD > 1, 1 StDev High (%)\", \"Delta End OD > 1, 1 StDev Low (%)\", \"Median Delta Endpoint OD\",\n",
    "    \"Total Strains (#)\", \"Strains Ctrl OD > 1 (#)\", \"Endpoint OD < 1 (%)\", \"Titer\", \"Media\", \n",
    "]\n",
    "\n",
    "LB_LHR_summary_uniqueIsolates = LB_LHR_summary_uniqueIsolates[desired_column_order]\n",
    "\n",
    "LB_LHR_summary_uniqueIsolates.to_csv(#redacted, index=False)"
   ]
  },
  {
   "cell_type": "code",
   "execution_count": null,
   "id": "5dc8a954-b9e9-46b5-804a-0f2c5b1f2b38",
   "metadata": {
    "tags": []
   },
   "outputs": [],
   "source": [
    "urine_LHR_summary_uniqueIsolates = LHR_urine_uniqueIsolates.groupby(\"Phage\", sort=False).apply(sum_strains_NoMedia).reset_index(name=\"Total Strains (#)\")\n",
    "urine_strains_noLowOD = LHR_urine_uniqueIsolates.groupby(\"Phage\", sort=False).apply(sum_strains_NoMedia_NoLowOD)\n",
    "urine_LHR_summary_uniqueIsolates[\"Strains Ctrl OD > 1 (#)\"] = urine_strains_noLowOD.values\n",
    "urine_LHR_summary_uniqueIsolates[\"Endpoint OD < 1 (%)\"] = ((urine_LHR_summary_uniqueIsolates[\"Total Strains (#)\"] - urine_LHR_summary_uniqueIsolates[\"Strains Ctrl OD > 1 (#)\"]) / (urine_LHR_summary_uniqueIsolates[\"Total Strains (#)\"]))\n",
    "urine_strains_hit_percent = LHR_urine_uniqueIsolates.groupby(\"Phage\", sort=False).apply(get_strains_hit_percent)\n",
    "urine_LHR_summary_uniqueIsolates[\"Strains Hit (%)\"] = urine_strains_hit_percent.values\n",
    "urine_median_AUCs = LHR_urine_uniqueIsolates.groupby(\"Phage\", sort=False)[\"AUC Ratio\"].median()\n",
    "urine_LHR_summary_uniqueIsolates[\"Median AUC Ratio\"] = urine_median_AUCs.values\n",
    "urine_DeltaEndpointOD_greaterPercent = LHR_urine_uniqueIsolates.groupby(\"Phage\", sort=False).apply(percent_DeltaEndpointOD_greater) \n",
    "urine_LHR_summary_uniqueIsolates[\"Delta Endpoint OD > 1 (%)\"] = urine_DeltaEndpointOD_greaterPercent.values\n",
    "urine_median_DeltaEndpointOD = LHR_urine_uniqueIsolates.groupby(\"Phage\", sort=False)[\"Delta Endpoint OD\"].median()\n",
    "urine_LHR_summary_uniqueIsolates[\"Median Delta Endpoint OD\"] = urine_median_DeltaEndpointOD.values\n",
    "urine_max_titers = LHR_urine_uniqueIsolates.groupby(\"Phage\", sort=False)[\"Titer\"].max()\n",
    "urine_LHR_summary_uniqueIsolates[\"Titer\"] = urine_max_titers.values\n",
    "urine_LHR_summary_uniqueIsolates[\"Media\"] = \"urine\"\n",
    "\n",
    "#high and low percentages for strain hits\n",
    "urine_strains_hit_percent_auc1stdhigh = LHR_urine_uniqueIsolates.groupby(\"Phage\", sort=False).apply(strains_hit_percent_auc_1std_high)\n",
    "urine_strains_hit_percent_auc1stdlow = LHR_urine_uniqueIsolates.groupby(\"Phage\", sort=False).apply(strains_hit_percent_auc_1std_low)\n",
    "urine_LHR_summary_uniqueIsolates[\"Strains Hit AUC 1 StDev High (%)\"] = urine_strains_hit_percent_auc1stdhigh.values\n",
    "urine_LHR_summary_uniqueIsolates[\"Strains Hit AUC 1 StDev Low (%)\"] = urine_strains_hit_percent_auc1stdlow.values\n",
    "\n",
    "#high and low percentages for delta endpoint ODs\n",
    "urine_DeltaEndOD_greaterPercent_1stdHigh = LHR_urine_uniqueIsolates.groupby(\"Phage\", sort=False).apply(percent_DeltaEndOD_greater_stdHigh)\n",
    "urine_DeltaEndOD_greaterPercent_1stdLow = LHR_urine_uniqueIsolates.groupby(\"Phage\", sort=False).apply(percent_DeltaEndOD_greater_stdLow)\n",
    "urine_LHR_summary_uniqueIsolates[\"Delta End OD > 1, 1 StDev High (%)\"] = urine_DeltaEndOD_greaterPercent_1stdHigh.values\n",
    "urine_LHR_summary_uniqueIsolates[\"Delta End OD > 1, 1 StDev Low (%)\"] = urine_DeltaEndOD_greaterPercent_1stdLow.values\n",
    "\n",
    "desired_column_order = [\n",
    "    \"Phage\", \"Strains Hit (%)\", \"Strains Hit AUC 1 StDev High (%)\", \"Strains Hit AUC 1 StDev Low (%)\", \"Median AUC Ratio\", \n",
    "    \"Delta Endpoint OD > 1 (%)\", \"Delta End OD > 1, 1 StDev High (%)\", \"Delta End OD > 1, 1 StDev Low (%)\", \"Median Delta Endpoint OD\",\n",
    "    \"Total Strains (#)\", \"Strains Ctrl OD > 1 (#)\", \"Endpoint OD < 1 (%)\", \"Titer\", \"Media\", \n",
    "]\n",
    "\n",
    "urine_LHR_summary_uniqueIsolates = urine_LHR_summary_uniqueIsolates[desired_column_order]\n",
    "\n",
    "urine_LHR_summary_uniqueIsolates.to_csv(#redacted, index=False)"
   ]
  },
  {
   "cell_type": "code",
   "execution_count": null,
   "id": "d9d8e2e8-04f2-4b51-9f83-26790e590b4f",
   "metadata": {
    "tags": []
   },
   "outputs": [],
   "source": [
    "###### cnum sheet manipulation to subset to the #redacted isolates tested\n",
    "duplicate_cnum = cnum_clinic[cnum_clinic.duplicated('Name..')]\n",
    "\n",
    "cnum_clinic_nona = cnum_clinic.dropna(subset=['Name..'])\n",
    "\n",
    "six_prepause_isolates = ['c000675', 'c000678', 'c000681', 'c000686', 'c000687', 'c000692']\n",
    "\n",
    "cnum_clinic_subset = cnum_clinic[(cnum_clinic['specimen_collection_datetime'].str.startswith('2023')) | (cnum_clinic['Name..'].isin(six_prepause_isolates))]\n",
    "cnum_clinic_subset = cnum_clinic_subset.iloc[:,:-31]\n",
    "#print(len(cnum_clinic_subset))\n",
    "#print((cnum_clinic_subset['specimen_collection_time_description'] == 'Pre First Dose').sum())\n",
    "#print(cnum_clinic_subset['specimen_collection_time_description'].unique())\n",
    "baseline_isolates = cnum_clinic_subset[(cnum_clinic_subset['visit'] == 1) & ((cnum_clinic_subset['specimen_collection_time_description'] == 'Pre-Dose') |\n",
    "                                                                           (cnum_clinic_subset['specimen_collection_time_description'] == 'Pre First Dose'))]\n",
    "\n",
    "#c00857 will be the effective baseline isolate for patient 103009 since a true baseline was not collected\n",
    "baseline_isolates = pd.concat([baseline_isolates, cnum_clinic_subset[cnum_clinic_subset[\"Name..\"] == \"C000857\"]])\n",
    "\n",
    "print(baseline_isolates.columns.unique())\n",
    "\n",
    "#Get those baseline isolates into a nice csv\n",
    "baseline_isolate_columns = [\"subject_id\", \"Name..\"]\n",
    "baseline_isolates = baseline_isolates[baseline_isolate_columns]\n",
    "baseline_isolates = baseline_isolates.rename(columns={\"subject_id\" : \"Patient\", \"Name..\" : \"Strain\"})\n",
    "baseline_isolates = baseline_isolates[[\"Strain\", \"Patient\"]]\n",
    "baseline_isolates[\"Strain\"] = baseline_isolates[\"Strain\"].str.upper()\n",
    "baseline_isolates.to_csv(#redacted, index=False)\n",
    "print(len(baseline_isolates.Strain.unique()))\n",
    "print(len(baseline_isolates.Patient.unique()))"
   ]
  },
  {
   "cell_type": "code",
   "execution_count": null,
   "id": "f229aac9-3a6d-4944-81a7-250de19b57c8",
   "metadata": {
    "tags": []
   },
   "outputs": [],
   "source": [
    "#get the clinical isolate cnum subset as a .csv\n",
    "LHR_unique = LHR_LB_avg.Strain.unique()\n",
    "\n",
    "cnum_unique = list(cnum_clinic_subset['Name..'].unique())\n",
    "cnum_unique = str(cnum_unique).upper()\n",
    "#print(cnum_unique)\n",
    "\n",
    "missing_cnums = [x for x in LHR_unique if x not in cnum_unique]\n",
    "print(missing_cnums)\n",
    "#print(len(cnum_clinic_subset))\n",
    "#cnum_clinic_subset.to_csv(\"cnum_subset.csv\", index=False)\n",
    "\n",
    "#C000845 and C000836 are not in the cnum dataframe, adding manually to confirmed correct locations\n",
    "cnum_subset_updated = pd.read_csv(#redacted)\n",
    "cnum_unique_updated = list(cnum_subset_updated['Name..'].unique())\n",
    "cnum_unique_updated = str(cnum_unique_updated).upper()\n",
    "print(cnum_unique_updated)\n",
    "missing_cnums = [x for x in LHR_unique if x not in cnum_unique_updated]\n",
    "print(missing_cnums)\n"
   ]
  },
  {
   "cell_type": "markdown",
   "id": "f7e1d766-bcdf-40f1-8722-d7c7a64ea881",
   "metadata": {
    "execution": {
     "iopub.execute_input": "2024-01-12T19:17:35.353409Z",
     "iopub.status.busy": "2024-01-12T19:17:35.353013Z",
     "iopub.status.idle": "2024-01-12T19:17:35.358674Z",
     "shell.execute_reply": "2024-01-12T19:17:35.358003Z",
     "shell.execute_reply.started": "2024-01-12T19:17:35.353384Z"
    },
    "tags": []
   },
   "source": [
    "### Baseline Isolate LHR Analysis Below"
   ]
  },
  {
   "cell_type": "code",
   "execution_count": null,
   "id": "5c1028cf-8f25-47a6-b189-8be986752c13",
   "metadata": {
    "tags": []
   },
   "outputs": [],
   "source": [
    "LHR_LB_baselineIsolates = pd.merge(baseline_isolate_strains, LHR_LB_avg, on=\"Strain\", how=\"left\")\n",
    "LHR_urine_baselineIsolates = pd.merge(baseline_isolate_strains, LHR_urine_avg, on=\"Strain\", how=\"left\")\n",
    "LHR_LB_baselineIsolates.to_csv(#redacted)\n",
    "LHR_urine_baselineIsolates.to_csv(#redacted)"
   ]
  },
  {
   "cell_type": "code",
   "execution_count": null,
   "id": "02d2e127-0e2b-4cf6-84f4-8bb533134e7a",
   "metadata": {
    "tags": []
   },
   "outputs": [],
   "source": [
    "no_grow_urine = LHR_urine_baselineIsolates[LHR_urine_baselineIsolates[\"Avg Control Endpoint OD\"] < 1]\n",
    "print(no_grow_urine.Strain.unique())"
   ]
  },
  {
   "cell_type": "code",
   "execution_count": null,
   "id": "8f453902-8b17-4308-84ef-d00e383cda5f",
   "metadata": {
    "tags": []
   },
   "outputs": [],
   "source": [
    "LB_LHR_summary_baselineIsolates = LHR_LB_baselineIsolates.groupby(\"Phage\", sort=False).apply(sum_strains_NoMedia).reset_index(name=\"Total Strains (#)\")\n",
    "LB_strains_noLowOD = LHR_LB_baselineIsolates.groupby(\"Phage\", sort=False).apply(sum_strains_NoMedia_NoLowOD)\n",
    "LB_LHR_summary_baselineIsolates[\"Strains Ctrl OD > 1 (#)\"] = LB_strains_noLowOD.values\n",
    "LB_LHR_summary_baselineIsolates[\"Endpoint OD < 1 (%)\"] = ((LB_LHR_summary_baselineIsolates[\"Total Strains (#)\"] - LB_LHR_summary_baselineIsolates[\"Strains Ctrl OD > 1 (#)\"]) / (LB_LHR_summary_baselineIsolates[\"Total Strains (#)\"]))\n",
    "LB_strains_hit_percent = LHR_LB_baselineIsolates.groupby(\"Phage\", sort=False).apply(get_strains_hit_percent)\n",
    "LB_LHR_summary_baselineIsolates[\"Strains Hit (%)\"] = LB_strains_hit_percent.values\n",
    "LB_median_AUCs = LHR_LB_baselineIsolates.groupby(\"Phage\", sort=False)[\"AUC Ratio\"].median()\n",
    "LB_LHR_summary_baselineIsolates[\"Median AUC Ratio\"] = LB_median_AUCs.values\n",
    "LB_DeltaEndpointOD_greaterPercent = LHR_LB_baselineIsolates.groupby(\"Phage\", sort=False).apply(percent_DeltaEndpointOD_greater) \n",
    "LB_LHR_summary_baselineIsolates[\"Delta Endpoint OD > 1 (%)\"] = LB_DeltaEndpointOD_greaterPercent.values\n",
    "LB_median_DeltaEndpointOD = LHR_LB_baselineIsolates.groupby(\"Phage\", sort=False)[\"Delta Endpoint OD\"].median()\n",
    "LB_LHR_summary_baselineIsolates[\"Median Delta Endpoint OD\"] = LB_median_DeltaEndpointOD.values\n",
    "LB_max_titers = LHR_LB_baselineIsolates.groupby(\"Phage\", sort=False)[\"Titer\"].max()\n",
    "LB_LHR_summary_baselineIsolates[\"Titer\"] = LB_max_titers.values\n",
    "LB_LHR_summary_baselineIsolates[\"Media\"] = \"LB\"\n",
    "\n",
    "#high and low percentages for strain hits\n",
    "LB_strains_hit_percent_auc1stdhigh = LHR_LB_baselineIsolates.groupby(\"Phage\", sort=False).apply(strains_hit_percent_auc_1std_high)\n",
    "LB_strains_hit_percent_auc1stdlow = LHR_LB_baselineIsolates.groupby(\"Phage\", sort=False).apply(strains_hit_percent_auc_1std_low)\n",
    "LB_LHR_summary_baselineIsolates[\"Strains Hit AUC 1 StDev High (%)\"] = LB_strains_hit_percent_auc1stdhigh.values\n",
    "LB_LHR_summary_baselineIsolates[\"Strains Hit AUC 1 StDev Low (%)\"] = LB_strains_hit_percent_auc1stdlow.values\n",
    "\n",
    "#high and low percentages for delta endpoint ODs\n",
    "LB_DeltaEndOD_greaterPercent_1stdHigh = LHR_LB_baselineIsolates.groupby(\"Phage\", sort=False).apply(percent_DeltaEndOD_greater_stdHigh)\n",
    "LB_DeltaEndOD_greaterPercent_1stdLow = LHR_LB_baselineIsolates.groupby(\"Phage\", sort=False).apply(percent_DeltaEndOD_greater_stdLow)\n",
    "LB_LHR_summary_baselineIsolates[\"Delta End OD > 0.2, 1 StDev High (%)\"] = LB_DeltaEndOD_greaterPercent_1stdHigh.values\n",
    "LB_LHR_summary_baselineIsolates[\"Delta End OD > 0.2, 1 StDev Low (%)\"] = LB_DeltaEndOD_greaterPercent_1stdLow.values\n",
    "\n",
    "desired_column_order = [\n",
    "    \"Phage\", \"Strains Hit (%)\", \"Strains Hit AUC 1 StDev High (%)\", \"Strains Hit AUC 1 StDev Low (%)\", \"Median AUC Ratio\", \n",
    "    \"Delta Endpoint OD > 1 (%)\", \"Delta End OD > 1, 1 StDev High (%)\", \"Delta End OD > 1, 1 StDev Low (%)\", \"Median Delta Endpoint OD\",\n",
    "    \"Total Strains (#)\", \"Strains Ctrl OD > 1 (#)\", \"Endpoint OD < 1 (%)\", \"Titer\", \"Media\", \n",
    "]\n",
    "\n",
    "LB_LHR_summary_baselineIsolates = LB_LHR_summary_baselineIsolates[desired_column_order]\n",
    "\n",
    "LB_LHR_summary_baselineIsolates.to_csv(#redacted, index=False)"
   ]
  },
  {
   "cell_type": "code",
   "execution_count": null,
   "id": "d6394ac2-32fc-4a3a-b8b7-6f7e459d9d93",
   "metadata": {
    "tags": []
   },
   "outputs": [],
   "source": [
    "urine_LHR_summary_baselineIsolates = LHR_urine_baselineIsolates.groupby(\"Phage\", sort=False).apply(sum_strains_NoMedia).reset_index(name=\"Total Strains (#)\")\n",
    "urine_strains_noLowOD = LHR_urine_baselineIsolates.groupby(\"Phage\", sort=False).apply(sum_strains_NoMedia_NoLowOD)\n",
    "urine_LHR_summary_baselineIsolates[\"Strains Ctrl OD > 1 (#)\"] = urine_strains_noLowOD.values\n",
    "urine_LHR_summary_baselineIsolates[\"Endpoint OD < 1 (%)\"] = ((urine_LHR_summary_baselineIsolates[\"Total Strains (#)\"] - urine_LHR_summary_baselineIsolates[\"Strains Ctrl OD > 1 (#)\"]) / (urine_LHR_summary_baselineIsolates[\"Total Strains (#)\"]))\n",
    "urine_strains_hit_percent = LHR_urine_baselineIsolates.groupby(\"Phage\", sort=False).apply(get_strains_hit_percent)\n",
    "urine_LHR_summary_baselineIsolates[\"Strains Hit (%)\"] = urine_strains_hit_percent.values\n",
    "urine_median_AUCs = LHR_urine_baselineIsolates.groupby(\"Phage\", sort=False)[\"AUC Ratio\"].median()\n",
    "urine_LHR_summary_baselineIsolates[\"Median AUC Ratio\"] = urine_median_AUCs.values\n",
    "urine_DeltaEndpointOD_greaterPercent = LHR_urine_baselineIsolates.groupby(\"Phage\", sort=False).apply(percent_DeltaEndpointOD_greater) \n",
    "urine_LHR_summary_baselineIsolates[\"Delta Endpoint OD > 1 (%)\"] = urine_DeltaEndpointOD_greaterPercent.values\n",
    "urine_median_DeltaEndpointOD = LHR_urine_baselineIsolates.groupby(\"Phage\", sort=False)[\"Delta Endpoint OD\"].median()\n",
    "urine_LHR_summary_baselineIsolates[\"Median Delta Endpoint OD\"] = urine_median_DeltaEndpointOD.values\n",
    "urine_max_titers = LHR_urine_baselineIsolates.groupby(\"Phage\", sort=False)[\"Titer\"].max()\n",
    "urine_LHR_summary_baselineIsolates[\"Titer\"] = urine_max_titers.values\n",
    "urine_LHR_summary_baselineIsolates[\"Media\"] = \"urine\"\n",
    "\n",
    "#high and low percentages for strain hits\n",
    "urine_strains_hit_percent_auc1stdhigh = LHR_urine_baselineIsolates.groupby(\"Phage\", sort=False).apply(strains_hit_percent_auc_1std_high)\n",
    "urine_strains_hit_percent_auc1stdlow = LHR_urine_baselineIsolates.groupby(\"Phage\", sort=False).apply(strains_hit_percent_auc_1std_low)\n",
    "urine_LHR_summary_baselineIsolates[\"Strains Hit AUC 1 StDev High (%)\"] = urine_strains_hit_percent_auc1stdhigh.values\n",
    "urine_LHR_summary_baselineIsolates[\"Strains Hit AUC 1 StDev Low (%)\"] = urine_strains_hit_percent_auc1stdlow.values\n",
    "\n",
    "#high and low percentages for delta endpoint ODs\n",
    "urine_DeltaEndOD_greaterPercent_1stdHigh = LHR_urine_baselineIsolates.groupby(\"Phage\", sort=False).apply(percent_DeltaEndOD_greater_stdHigh)\n",
    "urine_DeltaEndOD_greaterPercent_1stdLow = LHR_urine_baselineIsolates.groupby(\"Phage\", sort=False).apply(percent_DeltaEndOD_greater_stdLow)\n",
    "urine_LHR_summary_baselineIsolates[\"Delta End OD > 0.2, 1 StDev High (%)\"] = urine_DeltaEndOD_greaterPercent_1stdHigh.values\n",
    "urine_LHR_summary_baselineIsolates[\"Delta End OD > 0.2, 1 StDev Low (%)\"] = urine_DeltaEndOD_greaterPercent_1stdLow.values\n",
    "\n",
    "desired_column_order = [\n",
    "    \"Phage\", \"Strains Hit (%)\", \"Strains Hit AUC 1 StDev High (%)\", \"Strains Hit AUC 1 StDev Low (%)\", \"Median AUC Ratio\", \n",
    "    \"Delta Endpoint OD > 1 (%)\", \"Delta End OD > 1, 1 StDev High (%)\", \"Delta End OD > 1, 1 StDev Low (%)\", \"Median Delta Endpoint OD\",\n",
    "    \"Total Strains (#)\", \"Strains Ctrl OD > 1 (#)\", \"Endpoint OD < 1 (%)\", \"Titer\", \"Media\", \n",
    "]\n",
    "\n",
    "urine_LHR_summary_baselineIsolates = urine_LHR_summary_baselineIsolates[desired_column_order]\n",
    "\n",
    "urine_LHR_summary_baselineIsolates.to_csv(#redacted, index=False)"
   ]
  },
  {
   "cell_type": "code",
   "execution_count": null,
   "id": "5385bcc2-f8e1-46bb-a47f-f16e995192e1",
   "metadata": {
    "tags": []
   },
   "outputs": [],
   "source": [
    "theBaddie = LHR_urine_baselineIsolates[\"Strain\"][(LHR_urine_baselineIsolates[\"AUC Ratio\"] > 1) & (LHR_urine_baselineIsolates[\"Phage\"] == \"CK618_bactrim\") &\n",
    "                                                (LHR_urine_baselineIsolates[\"Avg Control Endpoint OD\"] > 1)]\n",
    "print(theBaddie)"
   ]
  },
  {
   "cell_type": "code",
   "execution_count": null,
   "id": "39743466-a671-4211-ba5d-2cb5e5fb611f",
   "metadata": {},
   "outputs": [],
   "source": [
    "theBaddies = theBaddie = LHR_urine_baselineIsolates[\"Strain\"][(LHR_urine_baselineIsolates[\"AUC Ratio\"] > 1) & (LHR_urine_baselineIsolates[\"Phage\"] == \"CK618_bactrim\") &\n",
    "                                                (LHR_urine_baselineIsolates[\"Avg Control Endpoint OD\"] > 1)]\n",
    "print(theBaddie)"
   ]
  }
 ],
 "metadata": {
  "kernelspec": {
   "display_name": "saturn (Python 3)",
   "language": "python",
   "name": "python3"
  },
  "language_info": {
   "codemirror_mode": {
    "name": "ipython",
    "version": 3
   },
   "file_extension": ".py",
   "mimetype": "text/x-python",
   "name": "python",
   "nbconvert_exporter": "python",
   "pygments_lexer": "ipython3",
   "version": "3.9.17"
  }
 },
 "nbformat": 4,
 "nbformat_minor": 5
}
