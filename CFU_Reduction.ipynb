{
 "cells": [
  {
   "cell_type": "code",
   "execution_count": null,
   "id": "a6807875-8c99-4236-b2d7-82b3901ff5f7",
   "metadata": {
    "tags": []
   },
   "outputs": [],
   "source": [
    "import pandas as pd\n",
    "import seaborn as sns\n",
    "import matplotlib.pyplot as plt\n",
    "import numpy as np"
   ]
  },
  {
   "cell_type": "code",
   "execution_count": null,
   "id": "269330e1-a483-4d2f-88fd-a53123443191",
   "metadata": {
    "tags": []
   },
   "outputs": [],
   "source": [
    "# CFU reduction C873 Replacement\n",
    "c873_update = pd.read_csv(#redacted.csv)\n",
    "cfu_reduction_raw = pd.read_csv(#redacted.csv)\n",
    "finalCFUset = pd.read_csv(#redacted.csv)\n",
    "LB_CFUset = pd.read_csv(#redacted.csv)\n",
    "LB_strains = list(LB_CFUset.Strain.unique())\n",
    "cfu_reduction_raw = cfu_reduction_raw[cfu_reduction_raw[\"Strain\"] != \"C000873\"]\n",
    "cfu_reduction_raw = cfu_reduction_raw[~cfu_reduction_raw.Strain.isin(LB_strains)]\n",
    "cfu_reduction = pd.concat([cfu_reduction_raw, c873_update, finalCFUset, LB_CFUset], axis=0)\n",
    "\n",
    "cfu_reduction.drop(\"Standard_Deviation\", axis=1, inplace=True)\n",
    "cfu_reduction.drop(\"EXP\", axis=1, inplace=True)\n",
    "cfu_reduction.Phage = cfu_reduction.Phage.apply(lambda x: \"Bactrim\" if (x == \"SXT\") | (x == \"Media-Bactrim\") else x)\n",
    "cfu_reduction.Phage = cfu_reduction.Phage.apply(lambda x: \"No Phage\" if (x == \"Media\") | (x == \"Blank\")  else x)\n",
    "cfu_reduction.Phage = cfu_reduction.Phage.apply(lambda x: \"CK618\" if (x == \"LBP-EC01\") | (x == \"CK000618\") else x)\n",
    "cfu_reduction.Phage = cfu_reduction.Phage.apply(lambda x: \"CK618_bactrim\" if (x == 'CK000618-Bactrim') | (x == 'LBP-EC01 + Bactrim') | (x == 'CK618-SXT') else x)\n",
    "cfu_reduction_avgs = cfu_reduction.groupby([\"Phage\", \"Strain\", \"Timepoint\"])[\"count_log_titer\"].agg(['mean', np.std,]).reset_index()\n",
    "cfu_reduction_avgs.columns = [\"Phage\", \"Strain\", \"Timepoint\", \"log_titer\", \"StDev\"]\n",
    "\n",
    "#drop rows that aren't a c number strain\n",
    "cfu_reduction_avgs = cfu_reduction_avgs[cfu_reduction_avgs.Strain.str.startswith(\"C\")]\n",
    "\n",
    "print(cfu_reduction_avgs.Phage.unique())\n",
    "print(cfu_reduction_avgs.Strain.unique())\n",
    "print(\"Strains tested: \" + str(len(cfu_reduction_avgs.Strain.unique())))\n",
    "\n",
    "#check for duplicates\n",
    "duplicates = cfu_reduction_avgs.duplicated(subset=['Phage', 'Strain', 'Timepoint'], keep=False)\n",
    "#print(cfu_reduction_avgs[duplicates].Strain.unique())\n",
    "#no duplicates, good.\n",
    "\n",
    "#specify media for the strains\n",
    "cfu_reduction_avgs['media'] = cfu_reduction_avgs.Strain.apply(lambda x: 'LB' if x in LB_strains else 'urine')\n",
    "\n",
    "cfu_reduction_avgs.to_csv(#redacted.csv, index=False)"
   ]
  },
  {
   "cell_type": "code",
   "execution_count": null,
   "id": "28579c9e-f1a3-4530-903e-78a974474e2f",
   "metadata": {
    "tags": []
   },
   "outputs": [],
   "source": [
    "print(finalCFUset.Strain.unique())\n",
    "original_strains = list(cfu_reduction_raw.Strain.unique())\n",
    "new_strains = finalCFUset.Strain.unique()\n",
    "repeat_strains = [strain for strain in new_strains if strain in original_strains]\n",
    "print(repeat_strains)"
   ]
  },
  {
   "cell_type": "code",
   "execution_count": null,
   "id": "00969e36-5dee-4058-af21-f3ed16e321f7",
   "metadata": {
    "tags": []
   },
   "outputs": [],
   "source": [
    "print(LB_CFUset.Strain.unique())\n",
    "original_strains = list(cfu_reduction_raw.Strain.unique())\n",
    "new_strains = LB_CFUset.Strain.unique()\n",
    "repeat_strains = [strain for strain in new_strains if strain in original_strains]\n",
    "print(repeat_strains)"
   ]
  },
  {
   "cell_type": "code",
   "execution_count": null,
   "id": "5eadac96-7a5b-4665-b3e9-4c3431cdce25",
   "metadata": {
    "tags": []
   },
   "outputs": [],
   "source": [
    "#new dataset avergaes and stuff\n",
    "old_stuff_avgs = finalCFUset.groupby([\"Phage\", \"Strain\", \"Timepoint\"])[\"count_log_titer\"].agg(['mean', np.std,]).reset_index()\n",
    "old_stuff_avgs.columns = [\"Phage\", \"Strain\", \"Timepoint\", \"log_titer\", \"StDev\"]\n",
    "# cfu_reduction_avgs.Phage = cfu_reduction_avgs.Phage.apply(lambda x: \"CK618\" if (x == \"LBP-EC01\") | (x == \"CK000618\") else x)\n",
    "# cfu_reduction_avgs.Phage = cfu_reduction_avgs.Phage.apply(lambda x: \"CK618_bactrim\" if (x == 'CK000618-Bactrim') | (x == 'LBP-EC01 + Bactrim') else x)\n",
    "repeat_strains_subset = cfu_reduction_avgs[(old_stuff_avgs[\"Strain\"] == \"C000873\") | (cfu_reduction_avgs[\"Strain\"] == \"C000835\")]\n",
    "new_repeat_subset =  cfu_reduction_avgs[(cfu_reduction_avgs[\"Strain\"] == \"C000873\") | (cfu_reduction_avgs[\"Strain\"] == \"C000835\")]\n",
    "\n",
    "# Old and new data look consistent so averaging it all seems valid"
   ]
  }
 ],
 "metadata": {
  "kernelspec": {
   "display_name": "saturn (Python 3)",
   "language": "python",
   "name": "python3"
  },
  "language_info": {
   "codemirror_mode": {
    "name": "ipython",
    "version": 3
   },
   "file_extension": ".py",
   "mimetype": "text/x-python",
   "name": "python",
   "nbconvert_exporter": "python",
   "pygments_lexer": "ipython3",
   "version": "3.9.17"
  }
 },
 "nbformat": 4,
 "nbformat_minor": 5
}
