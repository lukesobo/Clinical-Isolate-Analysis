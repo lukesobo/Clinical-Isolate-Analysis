{
 "cells": [
  {
   "cell_type": "code",
   "execution_count": null,
   "id": "350b8259-2544-4eca-8357-f02247950cc6",
   "metadata": {
    "tags": []
   },
   "outputs": [],
   "source": [
    "import pandas as pd\n",
    "import numpy as np\n",
    "import matplotliine.pyplot as plt\n",
    "import seaborn as sns"
   ]
  },
  {
   "cell_type": "markdown",
   "id": "1f8b4284-83b8-434d-81e1-bb5d0148fa57",
   "metadata": {},
   "source": [
    "### Import Dataframes"
   ]
  },
  {
   "cell_type": "code",
   "execution_count": null,
   "id": "45dc4267-2884-4239-9c9c-acaff96ad961",
   "metadata": {
    "tags": []
   },
   "outputs": [],
   "source": [
    "#redacted"
   ]
  },
  {
   "cell_type": "markdown",
   "id": "ce1ebd8e-70e4-4247-8210-fe0d451a1a29",
   "metadata": {
    "execution": {
     "iopub.execute_input": "2024-01-22T00:13:58.127611Z",
     "iopub.status.busy": "2024-01-22T00:13:58.127248Z",
     "iopub.status.idle": "2024-01-22T00:13:58.148685Z",
     "shell.execute_reply": "2024-01-22T00:13:58.147936Z",
     "shell.execute_reply.started": "2024-01-22T00:13:58.127584Z"
    },
    "tags": []
   },
   "source": [
    "### Construct Summary Dataframe"
   ]
  },
  {
   "cell_type": "code",
   "execution_count": null,
   "id": "a0b04964-ed32-4da9-a017-17df18b6f7c9",
   "metadata": {
    "tags": []
   },
   "outputs": [],
   "source": [
    "#Subset as needed to work with basline isolates and CK618, CK618 + bactrim\n",
    "\n",
    "#subset LHR data\n",
    "LHR_LB.Phage.unique()\n",
    "LHR_LB_Cocks = LHR_LB[(LHR_LB.Phage == \"CK618\") | (LHR_LB.Phage == \"CK618_bactrim\")]\n",
    "LHR_LB_Cocks = LHR_LB_Cocks[LHR_LB_Cocks.Strain != \"LB\"]\n",
    "LHR_LB_AUC = LHR_LB_Cocks[[\"Phage\", \"Strain\", \"AUC Ratio\"]]\n",
    "LHR_LB_AUC = LHR_LB_AUC.rename(columns = {\"AUC Ratio\" : \"AUC_Ratio_LB\"})\n",
    "\n",
    "LHR_urine_Cocks = LHR_urine[(LHR_urine.Phage == \"CK618\") | (LHR_urine.Phage == \"CK618_bactrim\")]\n",
    "LHR_urine_Cocks = LHR_urine_Cocks[LHR_urine_Cocks.Strain != \"Urine\"]\n",
    "LHR_urine_Cocks = LHR_urine_Cocks[LHR_urine_Cocks[\"Avg Control Endpoint OD\"] > 0.4]\n",
    "LHR_urine_AUC = LHR_urine_Cocks[[\"Phage\", \"Strain\", \"AUC Ratio\"]]\n",
    "LHR_urine_AUC = LHR_urine_AUC.rename(columns = {\"AUC Ratio\" : \"AUC_Ratio_urine\"})\n",
    "\n",
    "#LHR\n",
    "LHR_AUC = pd.merge(LHR_LB_AUC, LHR_urine_AUC, how=\"outer\", on=[\"Strain\",\"Phage\"])\n",
    "LHR_AUC = LHR_AUC[[\"Strain\", \"Phage\", \"AUC_Ratio_LB\", \"AUC_Ratio_urine\"]]"
   ]
  },
  {
   "cell_type": "code",
   "execution_count": null,
   "id": "1c67595d-93b2-4b18-9103-6006e23f2ef6",
   "metadata": {
    "tags": []
   },
   "outputs": [],
   "source": [
    "#Plaquing Data\n",
    "\n",
    "#will need to consider whether using the maxes is best here\n",
    "plaquing_just_maxes = plaquing[[\"Strain\", \"max_titer_wZOC\", \"max_EOP\"]]\n",
    "plaquing_just_maxes = plaquing_just_maxes.rename(columns = {\"max_EOP\" : \"max_EOP_noZOC\"})\n",
    "\n",
    "plaquing_all = plaquing[[\"Strain\", \"Avg_Titer_wZOC\", \"max_titer_wZOC\", \"max_EOP\"]]\n",
    "\n",
    "#convert to log titers\n",
    "plaquing_all.iloc[:, [1,2]] = plaquing_all.iloc[:, [1,2]].apply(np.log10)\n",
    "plaquing_all.replace(-np.inf, 0, inplace=True)\n",
    "plaquing_all.columns=[\"Strain\", \"Avg_logTiter_wZOC\", \"max_logtiter_wZOC\", \"max_EOP\"]\n",
    "\n",
    "LHR_plaquing = pd.merge(LHR_AUC, plaquing_all, on=\"Strain\", how=\"left\")"
   ]
  },
  {
   "cell_type": "code",
   "execution_count": null,
   "id": "c46fb340-f2e9-4223-a7ed-03971d1d38a5",
   "metadata": {
    "tags": []
   },
   "outputs": [],
   "source": [
    "#CFU reduction\n",
    "CFUred_Cocks = CFUred[(CFUred.Phage == \"CK618\") | (CFUred.Phage == \"CK618_bactrim\") | (CFUred.Phage == \"No Phage\")]\n",
    "\n",
    "CFUred_grouped = CFUred_Cocks.groupby([\"Phage\", \"Strain\", \"Timepoint\"])[\"log_titer\"].mean().reset_index()\n",
    "\n",
    "CFUred_grouped.to_csv(\"CFUred_averages.csv\", index=False)\n",
    "\n",
    "#Pivot that bad boy\n",
    "CFU_pivoted = CFUred_grouped.pivot(\n",
    "    columns = \"Timepoint\",\n",
    "    index = [\"Phage\", \"Strain\"],\n",
    "    values = \"log_titer\").reset_index()\n",
    "\n",
    "CFU_pivoted.columns = [\"Phage\", \"Strain\", \"logCFU_0h\", \"logCFU_4h\", \"logCFU_24h\"]\n",
    "\n",
    "#Take some log differences for the CFU reductions\n",
    "# this is awful bc of plate kill\n",
    "#CFU_pivoted[\"4h_logCFU_reduction\"] = CFU_pivoted.logCFU_0h - CFU_pivoted.logCFU_4h\n",
    "No_Phage = CFU_pivoted[CFU_pivoted.Phage == \"No Phage\"].reset_index()\n",
    "No_Phage_twice = pd.concat([No_Phage, No_Phage], ignore_index=True)\n",
    "# CFU_pivoted[\"4h_logCFU_reduction\"] = No_Phage_twice.logCFU_0h - CFU_pivoted.logCFU_4h\n",
    "# CFU_pivoted[\"24h_logCFU_reduction\"] = No_Phage_twice.logCFU_0h - CFU_pivoted.logCFU_24h\n",
    "#CFU_pivoted[\"0h_NoPhage\"] = No_Phage_twice.logCFU_0h\n",
    "CFU_pivoted[\"4h_NoPhage_vs_Phage\"] = No_Phage_twice.logCFU_4h - CFU_pivoted.logCFU_4h\n",
    "CFU_pivoted[\"24h_NoPhage_vs_Phage\"] = No_Phage_twice.logCFU_24h - CFU_pivoted.logCFU_24h\n",
    "\n",
    "in_vitros = pd.merge(LHR_plaquing, CFU_pivoted, on=[\"Strain\", \"Phage\"], how=\"left\")"
   ]
  },
  {
   "cell_type": "code",
   "execution_count": null,
   "id": "85501ae6-9df4-49b1-9e55-1438d4862a75",
   "metadata": {
    "tags": []
   },
   "outputs": [],
   "source": [
    "#Merge in in vivo data\n",
    "in_vivo.rename(columns={\"Baseline_Iso\" : \"Strain\"}, inplace=True)\n",
    "in_vivo[\"Phage\"] = \"CK618_bactrim\"\n",
    "Clinical_Summary = pd.merge(in_vitros, in_vivo, on=[\"Strain\", \"Phage\"], how=\"left\")\n",
    "#get those patients in there\n",
    "strain_patient = cnum_clinic[[\"subject_id\", \"Name..\"]]\n",
    "strain_patient = strain_patient.rename(columns={\"subject_id\": \"Patient\", \"Name..\" : \"Strain\"})\n",
    "strain_patient = strain_patient[[\"Strain\", \"Patient\"]]\n",
    "strain_patient.Strain = strain_patient.Strain.str.upper()\n",
    "Clinical_Summary = pd.merge(strain_patient, Clinical_Summary, on=\"Strain\", how=\"left\")\n",
    "Clinical_Summary = Clinical_Summary.drop(\"Patient_y\", axis=1)\n",
    "Clinical_Summary = Clinical_Summary.rename(columns={\"Patient_x\": \"Patient\"})\n",
    "Clinical_Summary = Clinical_Summary.sort_values(by=[\"Strain\", \"Phage\"], ascending=False)\n",
    "\n",
    "Clinical_Summary.to_csv(\"Clinical_Summary.csv\", index=False)\n",
    "\n",
    "#Going to subset to just CK618 + bactrim for my own sanity in fillng the powerpoint out\n",
    "Clinical_618bactrim = Clinical_Summary[Clinical_Summary.Phage != \"CK618\"]\n",
    "Clinical_618bactrim = Clinical_618bactrim.sort_values(by= \"Patient\")\n",
    "Clinical_618bactrim.to_csv(\"Clinical_CK618_bactrim.csv\", index=False)"
   ]
  },
  {
   "cell_type": "code",
   "execution_count": null,
   "id": "641af358-2800-4186-b7f3-14673c566b39",
   "metadata": {
    "tags": []
   },
   "outputs": [],
   "source": [
    "#just baseline isolates\n",
    "\n",
    "#drop C000901 aand add C000902\n",
    "baseline_isos['Strain'] = baseline_isos['Strain'].replace({\"C000901\": \"C000902\"})\n",
    "\n",
    "BaselineIsos_Summary = pd.merge(baseline_isos, Clinical_Summary, how=\"left\", on=[\"Strain\"])\n",
    "BaselineIsos_Summary = BaselineIsos_Summary.drop(\"Patient_y\", axis=1)\n",
    "BaselineIsos_Summary = BaselineIsos_Summary.rename(columns={\"Patient_x\": \"Patient\"})\n",
    "BaselineIsos_Summary = BaselineIsos_Summary.sort_values(by=[\"Strain\", \"Phage\"], ascending=False)\n",
    "BaselineIsos_Summary.to_csv(\"BaselineIsos_Summary.csv\", index=False)"
   ]
  },
  {
   "cell_type": "markdown",
   "id": "30c35531-86e7-4af5-8845-53ea058da45a",
   "metadata": {},
   "source": [
    "### Correlative Analysis"
   ]
  },
  {
   "cell_type": "code",
   "execution_count": null,
   "id": "7cdf755b-e231-4a84-833a-b044dd840657",
   "metadata": {
    "tags": []
   },
   "outputs": [],
   "source": [
    "# Calculate correlation matrix\n",
    "BaselineIsos_noPatient = BaselineIsos_Summary.drop(columns={\"Patient\"})\n",
    "\n",
    "#drop the maxCFUdrop anytime column\n",
    "BaselineIsos_noPatient = BaselineIsos_Summary.drop(columns={\"Patient_maxCFUdrop_anyTime\"})\n",
    "\n",
    "correlation_matrix = BaselineIsos_noPatient.corr()\n",
    "\n",
    "# Display the correlation matrix\n",
    "print(\"Correlation Matrix:\")\n",
    "correlation_matrix\n",
    "\n",
    "# Visualize the correlation matrix\n",
    "plt.matshow(correlation_matrix)\n",
    "plt.xticks(range(len(correlation_matrix.columns)), correlation_matrix.columns, rotation=\"vertical\")\n",
    "plt.yticks(range(len(correlation_matrix.columns)), correlation_matrix.columns)\n",
    "plt.colorbar()\n",
    "plt.show()\n",
    "correlation_matrix.to_csv(\"VItroVivo_correlation.csv\")"
   ]
  },
  {
   "cell_type": "code",
   "execution_count": null,
   "id": "f1efe39a-e0f8-40ff-b030-829635b662d8",
   "metadata": {
    "tags": []
   },
   "outputs": [],
   "source": [
    "#One-off get the sequencing type \n",
    "cnum_sampleid = cnum_clinic[[\"Name..\", \"sample_id\"]]\n",
    "\n",
    "abx_suscep = pd.read_csv(#redacted.tsv, sep=\"\\t\")\n",
    "abx_suscep = abx_suscep.rename(columns={\"grp_id\" : \"sample_id\"})\n",
    "\n",
    "cnum_abx = pd.merge(cnum_sampleid, abx_suscep, on = \"sample_id\", how=\"left\")\n",
    "cnum_abx.to_csv(\"cnum_abx.csv\", index=False)\n",
    "\n",
    "#get some counts\n",
    "\n",
    "cnum_abx_subset = cnum_abx [[\"Name..\", \"susceptibility_bactrim\"]]\n",
    "cnum_abx_subset = cnum_abx_subset.rename(columns={\"Name..\" : \"Strain\"})\n",
    "cnum_abx_subset_unique = cnum_abx_subset.drop_duplicates()\n",
    "#print(cnum_abx_subset_unique[\"susceptibility_bactrim\"].value_counts())\n",
    "\n",
    "#unique isos\n",
    "unique_abx = pd.merge(unique_isos, cnum_abx_subset_unique, on=\"Strain\", how=\"left\")\n",
    "print(unique_abx[\"susceptibility_bactrim\"].value_counts())\n",
    "print(len(unique_isos))"
   ]
  },
  {
   "cell_type": "code",
   "execution_count": null,
   "id": "38ef0647-0061-47d6-bb43-1721480752d2",
   "metadata": {
    "tags": []
   },
   "outputs": [],
   "source": [
    "#unique isolate summaries\n",
    "unique_isos_summary = pd.merge(unique_isos, Clinical_618bactrim, on=[\"Strain\", \"Patient\"], how=\"left\")\n",
    "unique_isos_summary.to_csv(\"uniqueisos_618bactrim.csv\", index=False)\n"
   ]
  },
  {
   "cell_type": "code",
   "execution_count": null,
   "id": "33823306-6bc9-4794-b4b9-1c3f4203a309",
   "metadata": {
    "tags": []
   },
   "outputs": [],
   "source": [
    "# Bar chart using DataFrame\n",
    "unique_isos_summary = unique_isos_summary.sort_values(by= \"Strain\", ascending=False)\n",
    "\n",
    "# Set a larger figure size\n",
    "plt.figure(figsize=(12,8))\n",
    "\n",
    "# Conditional color: red for values above the threshold, green otherwise\n",
    "colors = ['red' if value < 9 else 'gray' for value in unique_isos_summary['Avg_logTiter_wZOC']]\n",
    "\n",
    "unique_isos_summary.plot(x='Strain', y='Avg_logTiter_wZOC', kind='barh', color=colors, legend=False)\n",
    "\n",
    "# # Adding labels and title\n",
    "# plt.xlabel('Categories')\n",
    "plt.xlabel('log10 PFU/mL')\n",
    "plt.title('Avg log10 Phage Titer on Ph2 Part 1 Genetically Unique Isolates')\n",
    "\n",
    "# Adjusting y-axis tick labels fontsize\n",
    "plt.yticks(fontsize=8)\n",
    "\n",
    "# Display the plot\n",
    "plt.show()"
   ]
  },
  {
   "cell_type": "code",
   "execution_count": null,
   "id": "782eec5c-3c92-4b0e-a758-16a9ec4e430a",
   "metadata": {
    "tags": []
   },
   "outputs": [],
   "source": [
    "BaselineIsos_618bactrim = BaselineIsos_Summary[BaselineIsos_Summary[\"Phage\"] == \"CK618_bactrim\"]\n",
    "BaselineIsos_618bactrim.to_csv(\"baselineIsos_618bactrim.csv\", index=False)\n",
    "print(len(BaselineIsos_618bactrim.Patient.unique()))"
   ]
  },
  {
   "cell_type": "code",
   "execution_count": null,
   "id": "8d641e88-16ff-40ad-9220-a58872d269f8",
   "metadata": {
    "tags": []
   },
   "outputs": [],
   "source": [
    "badat4 = CFUred_bactrim618[CFUred_bactrim618['4h_NoPhage_vs_Phage'] < 3]"
   ]
  },
  {
   "cell_type": "code",
   "execution_count": null,
   "id": "9ec8fcd7-c3bd-47e6-a412-80c97dbcca9f",
   "metadata": {
    "tags": []
   },
   "outputs": [],
   "source": [
    "#CFU Reduction Summary Graph\n",
    "\n",
    "#Just ck618 bactrim comparison\n",
    "CFUred_bactrim618 = CFU_pivoted[CFU_pivoted[\"Phage\"] == \"CK618_bactrim\"]\n",
    "\n",
    "#heat map\n",
    "columns_to_plot = ['4h_NoPhage_vs_Phage', '24h_NoPhage_vs_Phage']\n",
    "\n",
    "# Create a horizontally oriented and skinnier heatmap for selected columns\n",
    "fig, ax = plt.subplots(figsize=(5,8))  # Adjust the width by changing the first value in figsize\n",
    "\n",
    "\n",
    "# Create a heatmap\n",
    "ax = sns.heatmap(CFUred_bactrim618[columns_to_plot], annot=True, cmap='viridis', fmt='.2f', linewidths=.5)\n",
    "\n",
    "# Set the tick labels\n",
    "ax.set_yticklabels(CFUred_bactrim618.Strain, rotation=0)\n",
    "ax.set_xticklabels([\"4h log red. from cells\", \"24h log red. from cells\"], rotation=0, fontsize=9)\n",
    "\n",
    "# Set a title for the heatmap\n",
    "ax.set_title('CFU Reduction on Post-Restart Baseline Isolates')\n",
    "\n",
    "# Show the plot\n",
    "plt.show()\n",
    "\n",
    "#analyze just the 24h point for a bit\n",
    "cfumL_24h = CFUred_bactrim618[CFUred_bactrim618['logCFU_24h'] < 3.31]"
   ]
  },
  {
   "cell_type": "code",
   "execution_count": null,
   "id": "77878ac5-9e48-4fa5-95c9-db60dbf0a66b",
   "metadata": {
    "tags": []
   },
   "outputs": [],
   "source": [
    "CFUred_618bactrim = CFUred_grouped[CFUred_grouped[\"Phage\"] == \"CK618_bactrim\"]"
   ]
  },
  {
   "cell_type": "code",
   "execution_count": null,
   "id": "e29e410e-c204-4285-b76f-92cb60052136",
   "metadata": {
    "tags": []
   },
   "outputs": [],
   "source": [
    "#Scatter plots\n",
    "\n",
    "# Extract the columns for the scatter plot\n",
    "x_data = BaselineIsos_noPatient['4h_NoPhage_vs_Phage']\n",
    "y_data = BaselineIsos_noPatient['Patient_maxCFUdrop']\n",
    "\n",
    "# Create a scatter plot\n",
    "plt.scatter(x_data, y_data, color='blue', marker='o', label='Scatter Plot')\n",
    "\n",
    "# Set labels and title\n",
    "plt.xlabel('CFU reduction 4h log difference')\n",
    "plt.ylabel('Patient maxCFUdrop')\n",
    "plt.title('4h CFU reduction logDiff vs Patient max CFU drop ')\n",
    "\n",
    "\n",
    "# Show the plot\n",
    "plt.show()"
   ]
  },
  {
   "cell_type": "markdown",
   "id": "a8f90ded-101d-449b-8b59-922a8f8addec",
   "metadata": {},
   "source": [
    "### Drop Pre-Pause Isolates for Correlation"
   ]
  },
  {
   "cell_type": "code",
   "execution_count": null,
   "id": "7cafdae9-1e56-4f9c-ac32-47bef7fb4e53",
   "metadata": {
    "tags": []
   },
   "outputs": [],
   "source": [
    "six_prepause_isolates = ['C000675', 'C000678', 'C000681', 'C000686', 'C000687', 'C000692']\n",
    "\n",
    "BaselineIsos_618bactrim_noprepause = BaselineIsos_618bactrim[~BaselineIsos_618bactrim[\"Strain\"].isin(six_prepause_isolates)]\n",
    "\n",
    "# Calculate correlation matrix\n",
    "BaselineIsos_618bactrim_noprepause_noPatient = BaselineIsos_618bactrim_noprepause.drop(columns={\"Patient\"})\n",
    "correlation_matrix = BaselineIsos_618bactrim_noprepause_noPatient.corr()\n",
    "\n",
    "# Display the correlation matrix\n",
    "print(\"Correlation Matrix:\")\n",
    "correlation_matrix\n",
    "\n",
    "# Visualize the correlation matrix\n",
    "plt.matshow(correlation_matrix)\n",
    "plt.xticks(range(len(correlation_matrix.columns)), correlation_matrix.columns, rotation=\"vertical\")\n",
    "plt.yticks(range(len(correlation_matrix.columns)), correlation_matrix.columns)\n",
    "plt.colorbar()\n",
    "plt.show()\n",
    "correlation_matrix\n",
    "\n",
    "#Doesn't look like subsetting out the pre-pause guys made much of a difference at all. Which makes sense bc they have a lot of missing data"
   ]
  },
  {
   "cell_type": "code",
   "execution_count": null,
   "id": "db654aef-3f96-4b36-9226-a065f9593401",
   "metadata": {
    "tags": []
   },
   "outputs": [],
   "source": [
    "#Scatter plots\n",
    "\n",
    "\n",
    "# Extract the columns for the scatter plot\n",
    "x_data = BaselineIsos_618bactrim_noprepause_noPatient['AUC_Ratio_LB']\n",
    "y_data = BaselineIsos_618bactrim_noprepause_noPatient['Avg_logTiter_wZOC']\n",
    "\n",
    "# Create a scatter plot\n",
    "plt.scatter(x_data, y_data, color='blue', marker='o', label='Scatter Plot')\n",
    "\n",
    "# Set labels and title\n",
    "plt.xlabel('AUC Ratio LB')\n",
    "plt.ylabel('Plaquing log Titer')\n",
    "plt.title('Plaquing log Titer vs 4h CFU Reduction (r = -0.64)')\n",
    "\n",
    "# Show the plot\n",
    "plt.show()"
   ]
  },
  {
   "cell_type": "markdown",
   "id": "5bab8693-f6c3-40db-9bbe-509a74547d30",
   "metadata": {},
   "source": [
    "### Getting MiTT Patients"
   ]
  },
  {
   "cell_type": "code",
   "execution_count": null,
   "id": "e04ee707-f11e-4196-af5d-7618111acad3",
   "metadata": {
    "tags": []
   },
   "outputs": [],
   "source": [
    "patients_not_cured = #redacted\n",
    "\n",
    "#106008 Does not have a day 10 result\n",
    "MiTT = #redacted\n",
    "MiTT_minus3nongrowers = #redacted\n",
    "print(\"The number of MiTT patients is: \" + str(len(MiTT)))\n",
    "print(\"The total number of patients is: \" + str(len(BaselineIsos_618bactrim.Patient)))\n",
    "        \n",
    "really_close_not_MiTT = #redacted\n",
    "\n",
    "MiTT_patients = BaselineIsos_618bactrim_noprepause[BaselineIsos_618bactrim_noprepause[\"Patient\"].isin(MiTT)]\n",
    "MiTT_patients.to_csv(#redacted, index=False)\n",
    "#MiTT_patients_nolowgrow = BaselineIsos_618bactrim_noprepause[BaselineIsos_618bactrim_noprepause[\"Patient\"].isin(MiTT_minus3nongrowers)]\n",
    "\n",
    "# Calculate correlation matrix\n",
    "MiTT_patients_noPatient = MiTT_patients.drop(columns={\"Patient\"})\n",
    "MiTT_patients_noPatient = MiTT_patients_noPatient.drop(columns={\"Patient_maxCFUdrop_anyTime\"})\n",
    "#MiTT_patients_nolowgrow = MiTT_patients_nolowgrow.drop(columns={\"Patient\"})\n",
    "correlation_matrix = MiTT_patients_noPatient.corr()\n",
    "\n",
    "# Display the correlation matrix\n",
    "print(\"Correlation Matrix:\")\n",
    "correlation_matrix\n",
    "\n",
    "# Visualize the correlation matrix\n",
    "plt.matshow(correlation_matrix)\n",
    "plt.xticks(range(len(correlation_matrix.columns)), correlation_matrix.columns, rotation=\"vertical\")\n",
    "plt.yticks(range(len(correlation_matrix.columns)), correlation_matrix.columns)\n",
    "plt.colorbar(location=\"right\")\n",
    "plt.show()\n",
    "correlation_matrix\n",
    "\n",
    "#Doesn't look like subsetting out the pre-pause patients made much of a difference at all. Which makes sense bc they have a lot of missing data\n"
   ]
  },
  {
   "cell_type": "code",
   "execution_count": null,
   "id": "3fb1895f-0b32-452b-acde-44f0f3e2e964",
   "metadata": {
    "tags": []
   },
   "outputs": [],
   "source": [
    "all_timepoints_noten = [\"Patient_0h_logCFU\", \"Patient_4h_logCFU\", \"Patient_24h_logCFU\", \"Day3_logCFU\", \"Day4_logCFU\", \"Day5_logCFU\", \"Day10_logCFU\"]\n",
    "MiTT_patients[\"raw_baseline_CFU\"] = 10 ** (MiTT_patients[\"Patient_0h_logCFU\"])\n",
    "MiTT_patients[\"raw_max_CFU\"] = 10 ** MiTT_patients[all_timepoints_noten].max(axis=1)\n",
    "MiTT_patients[\"raw_max_drop\"] = 10 ** (MiTT_patients[\"Patient_maxCFUdrop_anyTime\"])\n",
    "\n",
    "MiTT_patients[\"normalized_drop\"] = (MiTT_patients[\"raw_max_drop\"])/MiTT_patients[\"raw_max_CFU\"]\n",
    "MiTT_patients[\"log10_normalized_drop\"] = (MiTT_patients[\"Patient_maxCFUdrop_anyTime\"]/ (MiTT_patients[all_timepoints_noten].max(axis=1)))\n",
    "\n",
    "#This analysis is stetchy currently. If I'm going to normalize, it probably needs to be from a consistent reference point for all strains, which would be baseline. Hmm\n"
   ]
  },
  {
   "cell_type": "code",
   "execution_count": null,
   "id": "332870be-5a10-4fbc-939a-08561b133deb",
   "metadata": {
    "tags": []
   },
   "outputs": [],
   "source": [
    "#Scatter plots\n",
    "\n",
    "# Extract the columns for the scatter plot\n",
    "x_data = MiTT_patients['Avg_logTiter_wZOC']\n",
    "y_data = MiTT_patients['4h_NoPhage_vs_Phage']\n",
    "\n",
    "# Create a scatter plot\n",
    "plt.scatter(x_data, y_data, color='blue', marker='o', label='Scatter Plot')\n",
    "\n",
    "# Set labels and title\n",
    "plt.xlabel('Plaquing log Titer')\n",
    "plt.ylabel('4h CFU Reduction')\n",
    "plt.title('Plaquing log Titer vs 4h CFU Reduction (r = 0.57)')\n",
    "\n",
    "# Show the plot\n",
    "plt.show()"
   ]
  },
  {
   "cell_type": "code",
   "execution_count": null,
   "id": "816f5225-99fe-4749-9c15-5086fca35eb5",
   "metadata": {
    "tags": []
   },
   "outputs": [],
   "source": [
    "screening_cnum = cnum_clinic[cnum_clinic[\"visit_raw\"] == \"Screening\"]\n",
    "screening_cnum = screening_cnum[screening_cnum['specimen_collection_time_description'] != \"4 hr Post Dose\"]\n",
    "screening_cnum = screening_cnum.sort_values(\"subject_id\")\n",
    "six_prepause_isolates = ['c000675', 'c000678', 'c000681', 'c000686', 'c000687', 'c000692']\n",
    "screening_cnum = screening_cnum[~screening_cnum[\"Name..\"].isin(six_prepause_isolates)]\n",
    "\n",
    "print(len(screening_cnum))\n"
   ]
  },
  {
   "cell_type": "code",
   "execution_count": null,
   "id": "ae423741-962b-46fe-86bc-37ae78b00d5c",
   "metadata": {
    "tags": []
   },
   "outputs": [],
   "source": [
    "want_these =  MiTT_patients[['Patient', 'Strain', 'Avg_logTiter_wZOC', '4h_NoPhage_vs_Phage', 'Patient_maxCFUdrop']]\n",
    "want_these"
   ]
  },
  {
   "cell_type": "code",
   "execution_count": null,
   "id": "6d4f08e3-6e9a-4d89-9018-417b37e8f252",
   "metadata": {
    "tags": []
   },
   "outputs": [],
   "source": [
    "low_unique = unique_isos_summary[unique_isos_summary['Avg_logTiter_wZOC'] < 9]"
   ]
  },
  {
   "cell_type": "code",
   "execution_count": null,
   "id": "eeb3a833-2c57-4f86-b869-0eef37bc5e3e",
   "metadata": {
    "tags": []
   },
   "outputs": [],
   "source": [
    "all_timepoints = ['Patient', 'Strain',\"Patient_0h_logCFU\", \"Patient_4h_logCFU\", \"Patient_24h_logCFU\", \"Day3_logCFU\", \"Day4_logCFU\", \"Day5_logCFU\", \"Day10_logCFU\", \"Day34_logCFU\", \"Patient_maxCFUdrop\", \"Patient_maxCFUdrop_anyTime\"]\n",
    "MiTT_patients_cfu = MiTT_patients[all_timepoints]\n",
    "MiTT_patients_cfu[\"dif_alltime_frombaseline\"] = MiTT_patients_cfu[\"Patient_maxCFUdrop\"] - MiTT_patients_cfu[\"Patient_maxCFUdrop_anyTime\"]\n",
    "MiTT_patients_cfu"
   ]
  },
  {
   "cell_type": "code",
   "execution_count": null,
   "id": "afc4d971-d39d-4ec5-8be8-a98193fc1de8",
   "metadata": {
    "tags": []
   },
   "outputs": [],
   "source": [
    "MiTT_patients_interest = MiTT_patients[['Patient', 'Strain', 'AUC_Ratio_LB', 'Avg_logTiter_wZOC', '4h_NoPhage_vs_Phage']]\n",
    "MiTT_patients_interest"
   ]
  },
  {
   "cell_type": "code",
   "execution_count": null,
   "id": "f09ea0bc-ae81-42bb-843f-5067e24f26f5",
   "metadata": {
    "tags": []
   },
   "outputs": [],
   "source": [
    "BaselineIsos_Summary\n",
    "#Scatter plots\n",
    "\n",
    "# Extract the columns for the scatter plot\n",
    "x_data = MiTT_patients['4h_NoPhage_vs_Phage']\n",
    "y_data = MiTT_patients['Patient_maxCFUdrop_anyTime']\n",
    "\n",
    "# Create a scatter plot\n",
    "plt.scatter(x_data, y_data, color='blue', marker='o', label='Scatter Plot')\n",
    "\n",
    "# Set labels and title\n",
    "plt.xlabel('4h_NoPhage_vs_Phage')\n",
    "plt.ylabel('Patient_maxCFUdrop_anyTime')\n",
    "plt.title('4h_NoPhage_vs_Phage vs Patient_maxCFUdrop_anyTime')\n",
    "\n",
    "# Show the plot\n",
    "plt.show()"
   ]
  },
  {
   "cell_type": "code",
   "execution_count": null,
   "id": "6c39dfbb-1469-4359-977d-eea7d042f60d",
   "metadata": {
    "tags": []
   },
   "outputs": [],
   "source": [
    "BaselineIsos_PostRestart[[\"Strain\", \"Patient\", \"Phage\", \"4h_NoPhage_vs_Phage\"]]"
   ]
  },
  {
   "cell_type": "code",
   "execution_count": null,
   "id": "30817403-df13-4522-8257-95b463ff63df",
   "metadata": {
    "tags": []
   },
   "outputs": [],
   "source": [
    "BaselineIsos_PostRestart = BaselineIsos_Summary.dropna(subset=[\"24h_NoPhage_vs_Phage\"])\n",
    "BaselineIsos_PostRestart_strain_patient = BaselineIsos_PostRestart[[\"Strain\", \"Patient\"]]\n",
    "BaselineIsos_PostRestart_strain_patient[\"4h_CFUred_diff\"] = BaselineIsos_PostRestart.groupby([\"Strain\", \"Patient\"])[\"4h_NoPhage_vs_Phage\"].diff()\n",
    "BaselineIsos_PostRestart_strain_patient[\"24h_CFUred_diff\"] = BaselineIsos_PostRestart.groupby([\"Strain\", \"Patient\"])[\"24h_NoPhage_vs_Phage\"].diff()\n",
    "BaselineIsos_PostRestart_strain_patient = BaselineIsos_PostRestart_strain_patient.dropna()\n",
    "baselineIsos_large_difference = BaselineIsos_PostRestart_strain_patient[BaselineIsos_PostRestart_strain_patient['24h_CFUred_diff'] < -1]\n",
    "baselineIsos_large_difference = baselineIsos_large_difference.sort_values(\"Patient\")\n",
    "baselineIsos_large_difference"
   ]
  },
  {
   "cell_type": "code",
   "execution_count": null,
   "id": "d59843d3-7bdf-4033-b84e-814ffd0da7b4",
   "metadata": {
    "tags": []
   },
   "outputs": [],
   "source": [
    "BaselineIsos_618bactrim_FINALSTUFF = BaselineIsos_618bactrim[BaselineIsos_618bactrim.logCFU_24h < 3.5]\n",
    "BaselineIsos_618bactrim_FINALSTUFF = BaselineIsos_618bactrim_FINALSTUFF[[\"Strain\", \"Patient\", \"logCFU_0h\", \"logCFU_4h\", \"logCFU_24h\"]]\n",
    "BaselineIsos_618bactrim_FINALSTUFF"
   ]
  }
 ],
 "metadata": {
  "kernelspec": {
   "display_name": "saturn (Python 3)",
   "language": "python",
   "name": "python3"
  },
  "language_info": {
   "codemirror_mode": {
    "name": "ipython",
    "version": 3
   },
   "file_extension": ".py",
   "mimetype": "text/x-python",
   "name": "python",
   "nbconvert_exporter": "python",
   "pygments_lexer": "ipython3",
   "version": "3.9.17"
  }
 },
 "nbformat": 4,
 "nbformat_minor": 5
}
