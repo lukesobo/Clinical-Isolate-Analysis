{
 "cells": [
  {
   "cell_type": "code",
   "execution_count": null,
   "id": "c320d4bb-9a89-485c-b9b0-53a9fbb483e6",
   "metadata": {
    "tags": []
   },
   "outputs": [],
   "source": [
    "import pandas as pd\n",
    "import seaborn as sns\n",
    "import numpy as np\n",
    "import matplotlib.pyplot as plt"
   ]
  },
  {
   "cell_type": "markdown",
   "id": "ead7ffae-22a1-4599-8c2f-6971b661c5da",
   "metadata": {},
   "source": [
    "## Import Dataframes"
   ]
  },
  {
   "cell_type": "code",
   "execution_count": null,
   "id": "45ccb12b-95c7-43d9-a70f-b9ca2ca83db6",
   "metadata": {
    "tags": []
   },
   "outputs": [],
   "source": [
    "#redacted"
   ]
  },
  {
   "cell_type": "code",
   "execution_count": null,
   "id": "ca3aac50-d425-49d1-bf72-9cd66b1ccf50",
   "metadata": {
    "tags": []
   },
   "outputs": [],
   "source": [
    "patients = list(cnum_clinic[\"subject_id\"].unique())\n",
    "\n",
    "#subsetting by LCL plaquing data, but I think I'll actually need the #redacted data too\n",
    "plaquing_justLCL = plaquing[plaquing.source == \"LCL\"]\n",
    "missing_LCL_patients = [x for x in patients if x not in plaquing_justLCL[\"subject_id\"].unique()]\n",
    "print(missing_LCL_patients)\n"
   ]
  },
  {
   "cell_type": "code",
   "execution_count": null,
   "id": "443c41a6-35fb-4764-a515-1545971b5af7",
   "metadata": {
    "tags": []
   },
   "outputs": [],
   "source": [
    "columns_to_drop = [\"sample_type\", \"study_id\", \"sp_id\", \"organism_id\", \"category\", \"Owner\", \"Tags\", \"Genus.species.\", \n",
    "                   \"Color\", \"Mucoid\", 'BioSafety.Level','Town.City', 'State', 'Country', 'Body.Site.Organ', 'Medical.Diagnosis', 'Locus.program.']\n",
    "cnum_clinic_subset = cnum_clinic.drop(columns = columns_to_drop)\n",
    "cnum_clinic_subset.rename(columns={\"grp_id\" : \"sample_id\"}, inplace=True)\n",
    "\n",
    "#Make trimmed clinc df a csv\n",
    "cnum_clinic_subset.to_csv(#redacted, index=False)\n",
    "\n",
    "#merge in the plaquing data\n",
    "cnum_wPlaquing = pd.merge(cnum_clinic_subset, plaquing, on = [\"subject_id\", \"sample_id\", \"visit\", \"day\"], how = \"left\")\n",
    "\n",
    "#Renaming some columns, getting a csv, making C numnbers capital\n",
    "cnum_wPlaquing.rename(columns={\"source_y\": \"plaquing_source\", \"subject_id\" : \"Patient\", \"Name..\" : \"Strain\" }, inplace=True)\n",
    "cnum_wPlaquing[\"Strain\"] = cnum_wPlaquing[\"Strain\"].str.upper()\n",
    "cnum_wPlaquing.to_csv(#redacted\", index=False)"
   ]
  },
  {
   "cell_type": "code",
   "execution_count": null,
   "id": "333262b2-2799-4d52-8eb6-1c49a64c591f",
   "metadata": {
    "tags": []
   },
   "outputs": [],
   "source": [
    "#losing some strains here, need to find missing data\n",
    "\n",
    "missing_strains = [x for x in cnum_wPlaquing[\"Strain\"].unique() if x not in cnum_just_titers[\"Strain\"].unique()]\n",
    "\n",
    "missing_strain_df = cnum_wPlaquing[cnum_wPlaquing[\"Strain\"].isin(missing_strains)]\n",
    "missing_sampleIDs = list(missing_strain_df[\"sample_id\"].unique())\n",
    "\n",
    "#Get missing data from LIMS and merge it to the cnum_wPlaquing df\n",
    "lims_plaquing_data = pd.read_csv(#redacted)\n",
    "cols_keep = [\"Sample Description\", \"Result Name\", \"Result Formatted Entry\", \"Result Units\"]\n",
    "lims_data_subset = lims_plaquing_data[cols_keep]\n",
    "lims_data_subset = lims_data_subset[lims_data_subset[\"Sample Description\"].isin(missing_sampleIDs)]\n",
    "print(lims_data_subset)\n",
    "lims_data_subset = lims_data_subset.rename(columns = {\"Sample Description\" : \"sample_id\", \"Result Name\" : \"test\", \"Result Formatted Entry\" : \"result\", \"Result Units\" : \"units\"})\n",
    "\n",
    "#merge it in\n",
    "Allcnum_wPlaquing = pd.merge(cnum_wPlaquing, lims_data_subset, on=[\"sample_id\"], how=\"left\")\n",
    "Allcnum_wPlaquing.to_csv(#redacted, index=False)\n",
    "# ^Going to adjust this .csv manually and then bring it back in"
   ]
  },
  {
   "cell_type": "code",
   "execution_count": null,
   "id": "ca410484-a14a-41d9-8623-fc3d8974bdb1",
   "metadata": {
    "tags": []
   },
   "outputs": [],
   "source": [
    "#Bringing in a manually adjusted .csv\n",
    "plaquing_df = pd.read_csv(#redacted)\n",
    "\n",
    "plaquing_df_titers = plaquing_df[(plaquing_df[\"units\"] == \"PFU_ML\") | (plaquing_df[\"units\"] == \"(PFU/mL)\")]\n",
    "plaquing_df_titers.to_csv(#redacted, index=False)\n",
    "\n",
    "#Going to manually make everything a number and then bring it back in\n",
    "plaquing_titers = pd.read_csv(#redacted)"
   ]
  },
  {
   "cell_type": "code",
   "execution_count": null,
   "id": "623c46cb-544a-418e-bf81-5ce3f913f9ce",
   "metadata": {
    "tags": []
   },
   "outputs": [],
   "source": [
    "#(max of 6 phage, avg of 6 phage), (titer, EOP), (all isos, unique isos, baseline isos)\n",
    "\n",
    "#Get the max titer of each phage\n",
    "#Checked, no cocktail was the max titer\n",
    "\n",
    "max_titer_indices = plaquing_titers.groupby(\"Strain\")[\"result\"].idxmax()\n",
    "cnum_maxTiter = plaquing_titers.loc[max_titer_indices]\n",
    "#print(cnum_maxTiter[\"test\"].value_counts())\n",
    "\n",
    "#remove the cocktail points and find the average titer for the six phage\n",
    "plaquing_titer_no_cock = plaquing_titers[plaquing_titers[\"test\"] != \"Cocktail/ avg titer (PFU/mL)\"]\n",
    "plaquing_titer_no_cock[\"test\"].unique()\n",
    "\n",
    "avg_strain_titer = plaquing_titer_no_cock.groupby(\"Strain\")[\"result\"].agg([\"mean\", \"std\"]).reset_index()\n",
    "avg_strain_titer.columns = [\"Strain\", \"Avg_Titer\", \"StDev\"]\n",
    "\n",
    "sorted_titers = avg_strain_titer.sort_values(by=\"Avg_Titer\")\n",
    "\n",
    "#convert to scientific notation\n",
    "columns_to_convert = ['Avg_Titer', 'StDev']\n",
    "sorted_titers[columns_to_convert] = sorted_titers[columns_to_convert].apply(lambda x: ['{:e}'.format(val) for val in x])\n",
    "sorted_titers.to_csv(\"ClinIsolates_avg_Titers.csv\", index=False)\n",
    "\n",
    "#Genetically unique isolates\n",
    "uniqueIso_titers = pd.merge(unique_isos, plaquing_titer_no_cock, on=\"Strain\", how=\"left\")\n",
    "\n",
    "#Genetically Unique Iso max titer\n",
    "uniqueIso_maxTiter_indices = uniqueIso_titers.groupby(\"Strain\")[\"result\"].idxmax()\n",
    "uniqueIso_maxTiter = uniqueIso_titers.loc[uniqueIso_maxTiter_indices]\n",
    "\n",
    "#Unique Iso avg titer\n",
    "avg_uniqueIso_titer = uniqueIso_titers.groupby(\"Strain\")[\"result\"].agg([\"mean\", \"std\"]).reset_index()\n",
    "avg_uniqueIso_titer.columns = [\"Strain\", \"Avg_Titer\", \"StDev\"]\n",
    "\n",
    "sorted_unique_titers = avg_uniqueIso_titer.sort_values(by=\"Avg_Titer\")\n",
    "sorted_unique_titers[columns_to_convert] = sorted_unique_titers[columns_to_convert].apply(lambda x: ['{:e}'.format(val) for val in x])\n",
    "sorted_unique_titers.to_csv(\"uniqueIsos_avg_Titers.csv\", index=False)\n",
    "\n",
    "#Baseline Isolates\n",
    "baselineIso_titers = pd.merge(baseline_isos, plaquing_titer_no_cock, on=[\"Strain\", \"Patient\"], how=\"left\")\n",
    "\n",
    "#Baseline Iso max titer\n",
    "baselineIso_maxTiter_indices = baselineIso_titers.groupby([\"Strain\", \"Patient\"])[\"result\"].idxmax()\n",
    "baselineIso_maxTiter = baselineIso_titers.loc[baselineIso_maxTiter_indices]\n",
    "\n",
    "#Baseline Iso avg titer\n",
    "avg_baselineIso_titer = baselineIso_titers.groupby([\"Strain\", \"Patient\"])[\"result\"].agg([\"mean\", \"std\"]).reset_index()\n",
    "avg_baselineIso_titer.columns = [\"Strain\", \"Patient\", \"Avg_Titer\", \"StDev\"]\n",
    "\n",
    "sorted_baseline_titers = avg_baselineIso_titer.sort_values(by=\"Avg_Titer\")\n",
    "sorted_baseline_titers[columns_to_convert] = sorted_baseline_titers[columns_to_convert].apply(lambda x: ['{:e}'.format(val) for val in x])\n",
    "sorted_baseline_titers.to_csv(#redacted, index=False)"
   ]
  },
  {
   "cell_type": "code",
   "execution_count": null,
   "id": "3a78213e-cc36-4793-9122-b1021e335ba8",
   "metadata": {
    "tags": []
   },
   "outputs": [],
   "source": [
    "#merge max titer with average titer\n",
    "all_isos_maxTiter = cnum_maxTiter[[\"Strain\", \"result\"]]\n",
    "all_isos_maxTiter = all_isos_maxTiter.rename(columns = {\"result\" : \"max_titer\"})\n",
    "\n",
    "ClinIsolates_plaquing = pd.merge(avg_strain_titer, all_isos_maxTiter, on=\"Strain\", how=\"left\")\n",
    "ClinIsolates_plaquing_sorted = ClinIsolates_plaquing.sort_values(by=\"Avg_Titer\")\n",
    "new_columns_to_convert = ['Avg_Titer', 'StDev', \"max_titer\"]\n",
    "ClinIsolates_plaquing_sorted[new_columns_to_convert] = ClinIsolates_plaquing_sorted[new_columns_to_convert].apply(lambda x: ['{:e}'.format(val) for val in x])\n",
    "\n",
    "ClinIsolates_plaquing_sorted.to_csv(#redacted, index=False)\n",
    "\n",
    "#Genetically unique isolates\n",
    "unique_isos_plaquing = pd.merge(unique_isos, ClinIsolates_plaquing, on=\"Strain\", how=\"left\")\n",
    "unique_isos_plaquing_sorted = unique_isos_plaquing.sort_values(by=\"Avg_Titer\")\n",
    "unique_isos_plaquing_sorted[new_columns_to_convert] = unique_isos_plaquing_sorted[new_columns_to_convert].apply(lambda x: ['{:e}'.format(val) for val in x])\n",
    "unique_isos_plaquing_sorted.to_csv(#redacted, index=False)\n",
    "\n",
    "#Baseline isolates\n",
    "baseline_isos_plaquing = pd.merge(baseline_isos, ClinIsolates_plaquing, on=\"Strain\", how=\"left\")\n",
    "baseline_isos_plaquing_sorted = baseline_isos_plaquing.sort_values(by=\"Avg_Titer\")\n",
    "baseline_isos_plaquing_sorted[new_columns_to_convert] = baseline_isos_plaquing_sorted[new_columns_to_convert].apply(lambda x: ['{:e}'.format(val) for val in x])\n",
    "baseline_isos_plaquing_sorted.to_csv(#redacted, index=False)"
   ]
  },
  {
   "cell_type": "markdown",
   "id": "8a116262-d13c-4939-8a34-628bd3aca2c6",
   "metadata": {},
   "source": [
    "#### EOP"
   ]
  },
  {
   "cell_type": "code",
   "execution_count": null,
   "id": "19bee8f8-1424-4dfc-9262-4763e5c527a5",
   "metadata": {
    "tags": []
   },
   "outputs": [],
   "source": [
    "#EOP\n",
    "plaquing_EOP = plaquing_df[plaquing_df[\"test\"].str.contains(\"EOP\")]\n",
    "plaquing_EOP[\"result\"] = pd.to_numeric(plaquing_EOP[\"result\"])\n",
    "\n",
    "#max EOP\n",
    "max_EOP_indices = plaquing_EOP.groupby(\"Strain\")[\"result\"].idxmax()\n",
    "cnum_maxEOP = plaquing_EOP.loc[max_EOP_indices]\n",
    "all_isos_maxEOP = cnum_maxEOP[[\"Strain\", \"result\"]]\n",
    "\n",
    "#average EOP\n",
    "avg_strain_EOP = plaquing_EOP.groupby(\"Strain\")[\"result\"].agg([\"mean\", \"std\"]).reset_index()\n",
    "avg_strain_EOP.columns = [\"Strain\", \"Avg_EOP\", \"StDev\"]\n",
    "ClinIsolates_EOP = pd.merge(avg_strain_EOP, all_isos_maxEOP, on='Strain', how='left')\n",
    "ClinIsolates_EOP = ClinIsolates_EOP.rename(columns = {\"result\" : \"max_EOP\"})\n",
    "ClinIsolates_EOP_sorted = ClinIsolates_EOP.sort_values(by=\"Avg_EOP\")\n",
    "ClinIsolates_EOP_sorted.to_csv(#redacted, index=False)\n",
    "\n",
    "#Genetically unique isolates\n",
    "unique_isos_EOP = pd.merge(unique_isos, ClinIsolates_EOP, on=\"Strain\", how=\"left\")\n",
    "unique_isos_EOP_sorted = unique_isos_EOP.sort_values(by=\"Avg_EOP\")\n",
    "unique_isos_EOP_sorted.to_csv(#redacted, index=False)\n",
    "\n",
    "#Baseline isolates\n",
    "baseline_isos_EOP = pd.merge(baseline_isos, ClinIsolates_EOP, on=\"Strain\", how=\"left\")\n",
    "baseline_isos_EOP_sorted = baseline_isos_EOP.sort_values(by=\"Avg_EOP\")\n",
    "baseline_isos_EOP_sorted.to_csv(#redacted, index=False)"
   ]
  },
  {
   "cell_type": "markdown",
   "id": "26e942c9-65db-42e2-b98e-9b251441a033",
   "metadata": {},
   "source": [
    "#### Merge titers and EOPS"
   ]
  },
  {
   "cell_type": "code",
   "execution_count": null,
   "id": "b80f8f55-3a0a-4e07-bc36-24dfb8db3a52",
   "metadata": {
    "tags": []
   },
   "outputs": [],
   "source": [
    "ClinIsos_spots = pd.merge(ClinIsolates_plaquing_sorted, ClinIsolates_EOP_sorted, on=\"Strain\", how=\"left\")\n",
    "ClinIsos_spots = ClinIsos_spots.rename(columns = {\"StDev_x\" : \"StDev_Titer\", \"StDev_y\" : \"StDev_EOP\"})\n",
    "ClinIsos_spots.to_csv(#redacted, index=False)\n",
    "\n",
    "unique_isos_spots = pd.merge(sorted_unique_titers, unique_isos_EOP_sorted, on=\"Strain\", how=\"left\")\n",
    "unique_isos_spots = unique_isos_spots.rename(columns = {\"StDev_x\" : \"StDev_Titer\", \"StDev_y\" : \"StDev_EOP\"})\n",
    "unique_isos_spots = unique_isos_spots[[\"Strain\", \"Patient\", \"Avg_Titer\", \"StDev_Titer\", \"Avg_EOP\", \"StDev_EOP\", \"max_EOP\"]]\n",
    "unique_isos_spots.to_csv(#redacted, index=False)\n",
    "\n",
    "baseline_isos_spots = pd.merge(sorted_baseline_titers, baseline_isos_EOP_sorted, on=[\"Strain\", \"Patient\"], how=\"left\")\n",
    "baseline_isos_spots = baseline_isos_spots.rename(columns = {\"StDev_x\" : \"StDev_Titer\", \"StDev_y\" : \"StDev_EOP\"})\n",
    "baseline_isos_spots.to_csv(#redacted, index=False)"
   ]
  },
  {
   "cell_type": "markdown",
   "id": "440ba483-529e-4e97-ab24-375c5e04a410",
   "metadata": {},
   "source": [
    "### Obtain Titers from ZOCs\n",
    "##### Assuming a ZOC = 50 plaques"
   ]
  },
  {
   "cell_type": "code",
   "execution_count": null,
   "id": "a95b9353-d484-41f5-bd53-92a77b07b7fb",
   "metadata": {
    "tags": []
   },
   "outputs": [],
   "source": [
    "ZOC_df = plaquing_df[plaquing_df[\"test\"].str.contains(\"ZOC\")]\n",
    "ZOC_df[\"result\"] = ZOC_df[\"result\"].astype(float)\n",
    "ZOC_df[\"ZOC_Titer\"] = ((50 * (1/(ZOC_df[\"result\"])))/.002)\n",
    "ZOC_df[\"ZOC_Titer\"] = ZOC_df[\"ZOC_Titer\"].replace([np.inf, -np.inf], 0)\n",
    "ZOC_df.to_csv(\"ZOC_df.csv\", index=False)\n",
    "\n",
    "#merge to big dataframe\n",
    "ZOC_merge = ZOC_df[[\"Strain\", \"test\", \"ZOC_Titer\"]]\n",
    "# ZOC_merge = ZOC_merge.groupby(\"Strain\")[\"ZOC_Titer\"].agg([\"Avg_ZOC_Titer\", \"std\"]).reset_index()\n",
    "# ZOC_merge\n",
    "# clinIsoswZOC = pd.merge(ClinIsos_spots, ZOC_merge, on=\"Strain\", how=\"left\")\n",
    "# clinIsoswZOC\n",
    "print(len(ZOC_merge.Strain.unique()))"
   ]
  },
  {
   "cell_type": "code",
   "execution_count": null,
   "id": "7b89849c-0aeb-4670-b2c8-e63f33c5484e",
   "metadata": {
    "tags": []
   },
   "outputs": [],
   "source": [
    "print((1/ZOC_df[\"result\"]).max())\n",
    "print(((50 * (1e6)))/.002 / 1e10)"
   ]
  },
  {
   "cell_type": "markdown",
   "id": "29c1512f-2612-42f4-bad0-93e732fb2fd8",
   "metadata": {},
   "source": [
    "### sub in ZOC titers where there are ZOC titers"
   ]
  },
  {
   "cell_type": "code",
   "execution_count": null,
   "id": "c290d7dc-82b6-48e4-bddf-fd8679878129",
   "metadata": {
    "tags": []
   },
   "outputs": [],
   "source": [
    "plaquing_wZOC = pd.merge(plaquing_df, ZOC_merge, on=[\"Strain\", \"test\"], how=\"left\")\n",
    "\n",
    "def ZOCSWAP(row):\n",
    "    if row[\"ZOC_Titer\"] > 0:\n",
    "        row[\"result\"] = row[\"ZOC_Titer\"]\n",
    "        row[\"units\"] = \"PFU_ML\"\n",
    "    return row\n",
    "\n",
    "def ZOCDROP(row):\n",
    "    rows_to_drop = []\n",
    "    if row[\"ZOC_Titer\"] > 0:\n",
    "        rows_to_drop.append(row.name + 1)\n",
    "    return rows_to_drop\n",
    "\n",
    "getZOCd = plaquing_wZOC.apply(ZOCDROP, axis=1)\n",
    "\n",
    "rows_to_drop_list = getZOCd.sum()\n",
    "\n",
    "plaquing_ZOCSWAP = plaquing_wZOC.apply(ZOCSWAP, axis=1)\n",
    "plaquing_ZOCSWAP = plaquing_ZOCSWAP.drop(rows_to_drop_list)\n",
    "plaquing_ZOCSWAP.to_csv(#redacted, index=False)\n",
    "\n",
    "#manually make them bumbers like last time\n",
    "plaquing_ZOCSWAP_asnums = pd.read_csv(#redacted)"
   ]
  },
  {
   "cell_type": "markdown",
   "id": "147bd63a-fb74-4406-b8f2-da20a0214f8e",
   "metadata": {},
   "source": [
    "### Do what I did before with ZOCs Swapped"
   ]
  },
  {
   "cell_type": "code",
   "execution_count": null,
   "id": "09cd86b9-9a6d-4a93-ad01-047b55ceb2c2",
   "metadata": {
    "tags": []
   },
   "outputs": [],
   "source": [
    "plaquing_ZOCSWAP_titers = plaquing_ZOCSWAP_asnums[(plaquing_ZOCSWAP_asnums[\"units\"] == \"PFU_ML\") | (plaquing_ZOCSWAP_asnums[\"units\"] == \"(PFU/mL)\")]\n",
    "ZOC_no_cock = plaquing_ZOCSWAP_titers[plaquing_ZOCSWAP_titers[\"test\"] != \"Cocktail/ avg titer (PFU/mL)\"]\n",
    "ZOC_no_cock['result'] = ZOC_no_cock['result'].astype(float)\n",
    "\n",
    "#max titer with ZOC\n",
    "maxZOCindices = ZOC_no_cock.groupby(\"Strain\")[\"result\"].idxmax()\n",
    "max_titer_wZOC = ZOC_no_cock.loc[maxZOCindices]\n",
    "ZOCmax_whatmatters = max_titer_wZOC[[\"Strain\", \"result\"]]\n",
    "ZOCmax_whatmatters = ZOCmax_whatmatters.rename(columns = {\"result\" : \"max_titer_wZOC\"})\n",
    "\n",
    "#Avg titer with ZOC\n",
    "avg_ZOC_titer = ZOC_no_cock.groupby(\"Strain\")[\"result\"].agg([\"mean\", \"std\"]).reset_index()\n",
    "avg_ZOC_titer.columns = [\"Strain\", \"Avg_Titer_wZOC\", \"StDev_wZOC\"]\n",
    "\n",
    "sorted_ZOC_titers = avg_ZOC_titer.sort_values(by=\"Avg_Titer_wZOC\")\n",
    "\n",
    "all_ZOC_plaquing = pd.merge(sorted_ZOC_titers, ZOCmax_whatmatters, on=\"Strain\", how=\"left\")\n",
    "\n",
    "#convert to scientific notation\n",
    "# columns_to_convert = ['Avg_Titer', 'StDev']\n",
    "# sorted_ZOC_titers[columns_to_convert] = sorted_ZOC_titers[columns_to_convert].apply(lambda x: ['{:e}'.format(val) for val in x])\n",
    "# sorted_ZOC_titers.to_csv(\"ClinIsolates_avg_ZOC_Titers.csv\", index=False)"
   ]
  },
  {
   "cell_type": "markdown",
   "id": "a451d810-af0b-41ee-a117-c77e0fc11352",
   "metadata": {},
   "source": [
    "### Merge with Non-ZOC Avgs and EOPs"
   ]
  },
  {
   "cell_type": "code",
   "execution_count": null,
   "id": "b367f63a-31aa-4f09-8fcd-1b2ea886c8b5",
   "metadata": {
    "tags": []
   },
   "outputs": [],
   "source": [
    "last_columns_to_convert = ['Avg_Titer', 'StDev_Titer', 'max_titer', \"Avg_Titer_wZOC\", \"StDev_wZOC\", 'max_titer_wZOC']\n",
    "\n",
    "ClinIsos_ZOCspots = pd.merge(ClinIsos_spots, all_ZOC_plaquing, on=\"Strain\", how=\"left\")\n",
    "ClinIsos_ZOCspots = ClinIsos_ZOCspots.sort_values(by=\"Avg_Titer_wZOC\")\n",
    "ClinIsos_ZOCspots[last_columns_to_convert] = ClinIsos_ZOCspots[last_columns_to_convert].astype(float)\n",
    "ClinIsos_ZOCspots[last_columns_to_convert] = ClinIsos_ZOCspots[last_columns_to_convert].apply(lambda x: ['{:e}'.format(val) for val in x])\n",
    "ClinIsos_ZOCspots.to_csv(#redacted, index=False)\n",
    "\n",
    "unique_isos_ZOCspots = pd.merge(unique_isos, ClinIsos_ZOCspots, on=\"Strain\", how=\"left\")\n",
    "unique_isos_ZOCspots[last_columns_to_convert] = unique_isos_ZOCspots[last_columns_to_convert].astype(float)\n",
    "unique_isos_ZOCspots[last_columns_to_convert] = unique_isos_ZOCspots[last_columns_to_convert].apply(lambda x: ['{:e}'.format(val) for val in x])\n",
    "unique_isos_ZOCspots.to_csv(#redacted, index=False)\n",
    "\n",
    "baseline_isos_ZOCspots = pd.merge(baseline_isos, ClinIsos_ZOCspots, on=[\"Strain\"], how=\"left\")\n",
    "baseline_isos_ZOCspots[last_columns_to_convert] = baseline_isos_ZOCspots[last_columns_to_convert].astype(float)\n",
    "baseline_isos_ZOCspots[last_columns_to_convert] = baseline_isos_ZOCspots[last_columns_to_convert].apply(lambda x: ['{:e}'.format(val) for val in x])\n",
    "baseline_isos_ZOCspots.to_csv(#redacted, index=False)"
   ]
  }
 ],
 "metadata": {
  "kernelspec": {
   "display_name": "saturn (Python 3)",
   "language": "python",
   "name": "python3"
  },
  "language_info": {
   "codemirror_mode": {
    "name": "ipython",
    "version": 3
   },
   "file_extension": ".py",
   "mimetype": "text/x-python",
   "name": "python",
   "nbconvert_exporter": "python",
   "pygments_lexer": "ipython3",
   "version": "3.9.17"
  }
 },
 "nbformat": 4,
 "nbformat_minor": 5
}
