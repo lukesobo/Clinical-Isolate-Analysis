{
 "cells": [
  {
   "cell_type": "code",
   "execution_count": null,
   "id": "0dddc234-2cae-4bb5-8c7e-15dee1c7e2a3",
   "metadata": {
    "tags": []
   },
   "outputs": [],
   "source": [
    "import pandas as pd\n",
    "import numpy as np"
   ]
  },
  {
   "cell_type": "markdown",
   "id": "c8cf5b5f-6447-4feb-854a-9c95d52909de",
   "metadata": {},
   "source": [
    "### Import Dataframes"
   ]
  },
  {
   "cell_type": "code",
   "execution_count": null,
   "id": "4d7f749a-4539-4a0a-9946-89907a434f65",
   "metadata": {
    "tags": []
   },
   "outputs": [],
   "source": [
    "#cnumber to clinic subset info\n",
    "cnum_clinic = pd.read_csv(#redacted)\n",
    "\n",
    "#baseline isos\n",
    "baseline_isos = pd.read_csv(#redacted)"
   ]
  },
  {
   "cell_type": "markdown",
   "id": "beae5da2-11d8-4fcf-a481-778c52e56eaa",
   "metadata": {},
   "source": [
    "#### Contruct In Vivo Dataframe"
   ]
  },
  {
   "cell_type": "code",
   "execution_count": null,
   "id": "4024e100-367a-4944-82ae-b706806f59eb",
   "metadata": {
    "tags": []
   },
   "outputs": [],
   "source": [
    "print(cnum_clinic.visit_raw.unique())"
   ]
  },
  {
   "cell_type": "code",
   "execution_count": null,
   "id": "76bc2956-1af5-4904-aaa4-c4254334fbce",
   "metadata": {
    "tags": []
   },
   "outputs": [],
   "source": [
    "cnum_clinic.subject_id.unique()"
   ]
  },
  {
   "cell_type": "code",
   "execution_count": null,
   "id": "282d6103-92e5-4e92-b02b-3a272788f4f3",
   "metadata": {
    "tags": []
   },
   "outputs": [],
   "source": [
    "#Get CFU/mL at 0, 4 ,24\n",
    "days1and2 = cnum_clinic[(cnum_clinic[\"visit_raw\"] == \"Screening\") | (cnum_clinic[\"visit_raw\"] == \"V2/D2\")]\n",
    "\n",
    "#Noting all points where there is a day 2 post 4h points\n",
    "day2_postDose = days1and2[(days1and2.visit_raw == \"V2/D2\") & (days1and2.specimen_collection_time_description == \"4 hr Post Dose\")]\n",
    "#print(day2_postDose.subject_id.value_counts())\n",
    "\n",
    "#Noting patients whose third point is post dosing on day 2\n",
    "third_point_post_dose = day2_postDose[~day2_postDose.subject_id.isin(four_points_list)]\n",
    "third_point_post_dose_list = list(third_point_post_dose.subject_id)\n",
    "#print(third_point_post_dose_list)\n",
    "\n",
    "#drop the day 2 post-dose points\n",
    "indices_to_drop = days1and2[(days1and2.visit_raw == \"V2/D2\") & (days1and2.specimen_collection_time_description == \"4 hr Post Dose\")].index\n",
    "days1and2_0424 = days1and2.drop(indices_to_drop)\n",
    "\n",
    "#Need to concat the \"speciment_collection_time_description\" and \"visit_raw\" to get the three time descriptors\n",
    "\n",
    "#Start with changing \"Pre First Dose\" to \"Pre-Dose\"\n",
    "pre_dose = lambda x: \"Pre-Dose\" if x == \"Pre First Dose\" else x\n",
    "days1and2_0424.specimen_collection_time_description = days1and2_0424.specimen_collection_time_description.apply(pre_dose)\n",
    "\n",
    "#Concat the columns\n",
    "days1and2_0424[\"Timepoint\"] = days1and2_0424.visit_raw.str.cat(days1and2_0424.specimen_collection_time_description, sep=\"_\")\n",
    "\n",
    "#Pivot to get into patient, 0h, 4h, 24h columns\n",
    "\n",
    "#there are two duplicate isolates in this dataframe. Need to group and average CFU_ml\n",
    "duplicates = days1and2_0424.duplicated(subset=['subject_id', 'Timepoint'], keep=False)\n",
    "# print(days1and2_0424[duplicates])\n",
    "\n",
    "in_vivo_grouped = days1and2_0424.groupby([\"subject_id\", \"Timepoint\"])[\"CFU_ml\"].max().reset_index()\n",
    "\n",
    "in_vivo_pivot = in_vivo_grouped.pivot(\n",
    "    columns = \"Timepoint\",\n",
    "    index = \"subject_id\",\n",
    "    values = \"CFU_ml\").reset_index()\n",
    "\n",
    "in_vivo_pivot = in_vivo_pivot[[\"subject_id\", \"Screening_Pre-Dose\", \"Screening_4 hr Post Dose\", \"V2/D2_Pre-Dose\"]]\n",
    "in_vivo_pivot.iloc[:, 1:] = in_vivo_pivot.iloc[:, 1:].apply(np.log10)\n",
    "in_vivo_pivot.columns= [\"Patient\", \"Patient_0h_logCFU\", \"Patient_4h_logCFU\", \"Patient_24h_logCFU\"]\n",
    "\n",
    "#add baseline isolates when they're available\n",
    "in_vivo_final = pd.merge(in_vivo_pivot, baseline_isos, on=\"Patient\", how=\"left\")\n",
    "\n",
    "in_vivo_final = in_vivo_final[[\"Patient\", \"Strain\", \"Patient_0h_logCFU\", \"Patient_4h_logCFU\", \"Patient_24h_logCFU\"]]\n",
    "in_vivo_final.rename(columns = {\"Strain\" : \"Baseline_Iso\"}, inplace=True)\n",
    "in_vivo_final.to_csv(\"Patient_logCFU_0424h.csv\", index=False)"
   ]
  },
  {
   "cell_type": "markdown",
   "id": "be3daef9-f8c8-4891-93e4-6076e9063410",
   "metadata": {},
   "source": [
    "#### Finding all duplicate isolates"
   ]
  },
  {
   "cell_type": "code",
   "execution_count": null,
   "id": "c6f97b16-0a63-4dc9-9e76-ad3720dce0f8",
   "metadata": {
    "tags": []
   },
   "outputs": [],
   "source": [
    "#Now I'm concerned about overall duplicates\n",
    "\n",
    "cnum_larger = pd.read_csv(\"cnum_subset.csv\")\n",
    "\n",
    "all_duplicates = cnum_larger.duplicated(subset=['subject_id', \"specimen_collection_time_description\", 'visit_raw'], keep=False)\n",
    "cnum_larger[all_duplicates].to_csv(\"duplicate_isolates.csv\", index=False)\n",
    "all_patients = list(cnum_clinic.subject_id.unique())\n",
    "baseline_patients = list(baseline_isos.Patient.unique())\n",
    "\n",
    "the_escapee = list(set(all_patients) - set(baseline_patients))\n",
    "print(the_escapee)"
   ]
  },
  {
   "cell_type": "markdown",
   "id": "1b73b9b8-fb5b-40eb-9c7d-752389e3f447",
   "metadata": {},
   "source": [
    "### Just get the CFU_mL for all days "
   ]
  },
  {
   "cell_type": "code",
   "execution_count": null,
   "id": "91ad0993-f225-455f-96c5-c990a2cdcc4e",
   "metadata": {
    "tags": []
   },
   "outputs": [],
   "source": [
    "cnum_day3on = cnum_clinic[(cnum_clinic[\"visit_raw\"] == \"V3/D3\") | (cnum_clinic[\"visit_raw\"] == \"V4/D4\") | (cnum_clinic[\"visit_raw\"] == \"V5/D5\") | \n",
    "                                      (cnum_clinic[\"visit_raw\"] == \"V7/D10 TOC\") | (cnum_clinic[\"visit_raw\"] == \"V8/D34 ET\")]\n",
    "cnum_day3on = cnum_day3on[cnum_day3on[\"specimen_collection_time_description\"] != \"4 hr Post Dose\"]\n",
    "\n",
    "day3on_duplicates = cnum_day3on.duplicated(subset=['subject_id', 'visit_raw'], keep=False)\n",
    "#cnum_day3on[day3on_duplicates]\n",
    "\n",
    "cnum_day3on_grouped = cnum_day3on.groupby([\"subject_id\", \"visit_raw\"])[\"CFU_ml\"].max().reset_index()\n",
    "\n",
    "cnum_day3on_pivot = cnum_day3on_grouped.pivot(\n",
    "    columns = \"visit_raw\",\n",
    "    index = \"subject_id\",\n",
    "    values = \"CFU_ml\").reset_index()\n",
    "\n",
    "cnum_day3on_pivot.iloc[:, 1:] = cnum_day3on_pivot.iloc[:, 1:].apply(np.log10)\n",
    "cnum_day3on_pivot.columns=[\"Patient\", \"Day3_logCFU\", \"Day4_logCFU\", \"Day5_logCFU\", \"Day10_logCFU\", \"Day34_logCFU\"]\n",
    "\n",
    "#merge with timepoints from days 1 and 2\n",
    "patient_full = pd.merge(in_vivo_final, cnum_day3on_pivot, on=\"Patient\", how=\"left\")\n",
    "\n",
    "#Get some drops in there\n",
    "patient_full[\"Patient_4hlogCFUdrop\"] = patient_full.Patient_0h_logCFU - patient_full.Patient_4h_logCFU\n",
    "columns_past_0h = [\"Patient_4h_logCFU\", \"Patient_24h_logCFU\", \"Day3_logCFU\", \"Day4_logCFU\", \"Day5_logCFU\", \"Day10_logCFU\", \"Day34_logCFU\"]\n",
    "patient_full[\"Patient_maxCFUdrop_fromBaseline\"] = patient_full.Patient_0h_logCFU - patient_full[columns_past_0h].min(axis=1)\n",
    "all_timepoints = [\"Patient_0h_logCFU\", \"Patient_4h_logCFU\", \"Patient_24h_logCFU\", \"Day3_logCFU\", \"Day4_logCFU\", \"Day5_logCFU\", \"Day10_logCFU\", \"Day34_logCFU\"]\n",
    "patient_full[\"Patient_maxCFUdrop_anyTime\"] = patient_full[all_timepoints].max(axis=1) - patient_full[all_timepoints].min(axis=1)\n",
    "\n",
    "patient_full['Baseline_Iso'] = patient_full['Baseline_Iso'].replace({\"C000901\": \"C000902\"})\n",
    "patient_full.to_csv(\"Patient_logCFU_full.csv\", index=False)"
   ]
  },
  {
   "cell_type": "code",
   "execution_count": null,
   "id": "72d4fbb9-fb9d-48f9-81f6-30c288a64406",
   "metadata": {
    "tags": []
   },
   "outputs": [],
   "source": [
    "#subbing in 0 CFU/mL points where indicated by the graph\n",
    "patient_full_wZEROS = pd.read_csv(#redacted)\n",
    "patient_full_wZEROS[\"Patient_4hlogCFUdrop\"] = patient_full_wZEROS.Patient_0h_logCFU - patient_full_wZEROS.Patient_4h_logCFU\n",
    "patient_full_wZEROS[\"Patient_maxCFUdrop\"] = patient_full_wZEROS.Patient_0h_logCFU - patient_full_wZEROS[columns_past_0h].min(axis=1)\n",
    "all_timepoints = [\"Patient_0h_logCFU\", \"Patient_4h_logCFU\", \"Patient_24h_logCFU\", \"Day3_logCFU\", \"Day4_logCFU\", \"Day5_logCFU\", \"Day10_logCFU\", \"Day34_logCFU\"]\n",
    "all_timepoints_but_last = [\"Patient_0h_logCFU\", \"Patient_4h_logCFU\", \"Patient_24h_logCFU\", \"Day3_logCFU\", \"Day4_logCFU\", \"Day5_logCFU\", \"Day10_logCFU\"]\n",
    "patient_full_wZEROS[\"Patient_maxCFUdrop_anyTime\"] = patient_full_wZEROS[all_timepoints_but_last].max(axis=1) - patient_full_wZEROS[all_timepoints].min(axis=1)\n",
    "patient_full_wZEROS.to_csv(#redacted, index=False)"
   ]
  },
  {
   "cell_type": "markdown",
   "id": "ee9fb310-15a1-4480-a3ab-95e80895f0d6",
   "metadata": {},
   "source": [
    "### Adding TOC (\"test of cure') CFU/mL at day 10 metric"
   ]
  },
  {
   "cell_type": "code",
   "execution_count": null,
   "id": "38c5e1a4-18ba-4820-8909-9673eca86a06",
   "metadata": {
    "tags": []
   },
   "outputs": [],
   "source": [
    "cnum_TOC = cnum_clinic[cnum_clinic[\"visit_raw\"] == \"V7/D10 TOC\"]\n",
    "cnum_TOC.to_csv(\"Clinic_TOC.csv\", index=False)"
   ]
  }
 ],
 "metadata": {
  "kernelspec": {
   "display_name": "saturn (Python 3)",
   "language": "python",
   "name": "python3"
  },
  "language_info": {
   "codemirror_mode": {
    "name": "ipython",
    "version": 3
   },
   "file_extension": ".py",
   "mimetype": "text/x-python",
   "name": "python",
   "nbconvert_exporter": "python",
   "pygments_lexer": "ipython3",
   "version": "3.9.17"
  }
 },
 "nbformat": 4,
 "nbformat_minor": 5
}
